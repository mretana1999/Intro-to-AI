{
  "nbformat": 4,
  "nbformat_minor": 0,
  "metadata": {
    "kernelspec": {
      "display_name": "Python 3",
      "language": "python",
      "name": "python3"
    },
    "language_info": {
      "codemirror_mode": {
        "name": "ipython",
        "version": 3
      },
      "file_extension": ".py",
      "mimetype": "text/x-python",
      "name": "python",
      "nbconvert_exporter": "python",
      "pygments_lexer": "ipython3",
      "version": "3.6.4"
    },
    "colab": {
      "name": "AI_a2_mretanarodri2018.ipynb",
      "provenance": [],
      "collapsed_sections": [],
      "toc_visible": true,
      "include_colab_link": true
    }
  },
  "cells": [
    {
      "cell_type": "markdown",
      "metadata": {
        "id": "view-in-github",
        "colab_type": "text"
      },
      "source": [
        "<a href=\"https://colab.research.google.com/github/mretana1999/Intro-to-AI/blob/main/assignment-2/AI_a2_mretanarodri2018.ipynb\" target=\"_parent\"><img src=\"https://colab.research.google.com/assets/colab-badge.svg\" alt=\"Open In Colab\"/></a>"
      ]
    },
    {
      "cell_type": "markdown",
      "metadata": {
        "id": "aiZxj4i_RnqE"
      },
      "source": [
        "###########################################################################\n",
        "#####Assignment A2: Traveling Salesman Problem (TSP) using genetic algorithms in Python                              \n",
        "#####Student Names: Mauricio Retana, Juan Idrovo, Reynaldo Williams           \n",
        "#####Due date: 7/08/2021\n",
        "#####Code used as a reference and starting point: https://github.com/ezstoltz/genetic-algorithm/blob/master/genetic_algorithm_TSP.ipynb                                                      \n",
        "###########################################################################"
      ]
    },
    {
      "cell_type": "markdown",
      "metadata": {
        "id": "JUygh-2VAWl4"
      },
      "source": [
        "---\n",
        "### Introduction\n",
        "---\n",
        "![picture](https://drive.google.com/uc?export=view&id=1BhrUFhf8J_3OYVB9xiOWAMA0tXR0o9PN)\n",
        "\n",
        "The traveling salesman problem is about a salesman that travels trough cities that wants an efficient way to get to different cities by looking the shorter distance in between them. Inspired by the Charles Darwin's theory of evolution, the GAs is an imitation of the process of natural selection. The GA makes gradual changes in the result until they get the best solution after a few iterations. This is why this algorithm is a great approach for solving optimization problems like the TSP. \n",
        "\n",
        "While thinking about the solution to this problem, some questions arose. Questions like how are cities and distances represented? How do you create the initial population? How is the fitness score computed? And more. In the next paragraphs we are going to discuss the answers for such questions in detail."
      ]
    },
    {
      "cell_type": "markdown",
      "metadata": {
        "id": "5BczFODNJBwV"
      },
      "source": [
        "Importing libraries and initializing a dictionary that will be used to get user selections."
      ]
    },
    {
      "cell_type": "code",
      "metadata": {
        "id": "uxt0IpMfzRt4"
      },
      "source": [
        "import numpy as np, random, operator, pandas as pd, matplotlib.pyplot as plt\n",
        "import time\n",
        "\n",
        "OPTIONS_AVAILABLE_DICT = {\n",
        "                            'selection':{'1':'Roulette Wheel Selection with Pandas','2':'Roulette Wheel Selection with lists','3':'Tournament Selection'},\n",
        "                            'breeding':{'1':'Order Crossover', '2':'Same Value-Position Crossover', '3':'Improved Order Crossover'},\n",
        "                            'mutation':{'1':'Swap Mutation', '2':'Inversion Mutation', '3':'Scramble Mutation'},\n",
        "                            'stop condition':{'1':'Specified number of Generations', '2':'Stop if no improvement (Stagnation)'}\n",
        "                        }\n",
        "\n",
        "USER_SELECTED_OPTIONS_DICT = {'selection':'1', 'breeding':'1', 'mutation':'1', 'stop condition':'1'}\n",
        "\n",
        "random.seed(10) #Set seed to keep getting consistent results"
      ],
      "execution_count": null,
      "outputs": []
    },
    {
      "cell_type": "markdown",
      "metadata": {
        "id": "g_76m3-kzRt6"
      },
      "source": [
        "## Create necessary classes and functions"
      ]
    },
    {
      "cell_type": "markdown",
      "metadata": {
        "id": "fOGXKuibzRt7"
      },
      "source": [
        "Create class to handle \"cities\""
      ]
    },
    {
      "cell_type": "markdown",
      "metadata": {
        "id": "GdyU7FR4Pskt"
      },
      "source": [
        "---\n",
        "### **1) How were the cities and distances represented (as a data structure)?**\n",
        "---\n",
        "In the starting code, the cities were represented using a class called City. Each city instance has x and y attributes that represent the coordinate position of a city in a 200 * 200-point Cartesian plane. The location of these cities are chosen randomly before running the Genetic Algorithm (GA).Each city, which represents a gene in the GA, is then appended to a list of cities with the name of cityList. This cityList can be seen as a single chromosome that will be used to create the random population through the use of the sample() function from the random library.\n",
        "\n",
        "\n",
        "\n",
        "\n",
        "It is important to note that each chromosome must represent a complete route of N cities (where N = 25 by default) where duplicate genes are not allowed. Also, the size of the population for every generation will be of 100 chromosomes by default, that means, the algorithm will work with 100 different possible routes for the 25 cities for each generation.\n",
        "\n",
        "The distance between two cities is calculated using the distance method of the  City class which takes two city objects as parameters. The distance is calculated with the Pythagorean theorem (also known as Euclidean distance) by using the mathematical functions provided by numpy (such as np.sqrt) and then the distance between the two cities is returned. This distance method will be then used by the class fitness to calculate the total distance of a route/chromosome and return the fitness value of that route.\n"
      ]
    },
    {
      "cell_type": "code",
      "metadata": {
        "id": "wdYAnVF2zRt7"
      },
      "source": [
        "random.seed(10) #Set seed to keep getting consistent results\n",
        "\n",
        "class City:\n",
        "    def __init__(self, x, y):\n",
        "        self.x = x\n",
        "        self.y = y\n",
        "    \n",
        "    def distance(self, city):\n",
        "        xDis = abs(self.x - city.x)\n",
        "        yDis = abs(self.y - city.y)\n",
        "        distance = np.sqrt((xDis ** 2) + (yDis ** 2))\n",
        "        return distance\n",
        "    \n",
        "    def __repr__(self):\n",
        "        return \"(\" + str(self.x) + \",\" + str(self.y) + \")\""
      ],
      "execution_count": null,
      "outputs": []
    },
    {
      "cell_type": "markdown",
      "metadata": {
        "id": "6gb_RosYzRt8"
      },
      "source": [
        "Create a fitness function"
      ]
    },
    {
      "cell_type": "code",
      "metadata": {
        "id": "5jEZvxPHzRt8"
      },
      "source": [
        "class Fitness:\n",
        "    def __init__(self, route):\n",
        "        self.route = route\n",
        "        self.distance = 0\n",
        "        self.fitness= 0.0\n",
        "    \n",
        "    def routeDistance(self):\n",
        "        if self.distance ==0:\n",
        "            pathDistance = 0\n",
        "            for i in range(0, len(self.route)):\n",
        "                fromCity = self.route[i]\n",
        "                toCity = None\n",
        "                if i + 1 < len(self.route):\n",
        "                    toCity = self.route[i + 1]\n",
        "                else:\n",
        "                    toCity = self.route[0]\n",
        "                pathDistance += fromCity.distance(toCity)\n",
        "            self.distance = pathDistance\n",
        "        return self.distance\n",
        "    \n",
        "    def routeFitness(self):\n",
        "        if self.fitness == 0:\n",
        "            self.fitness = 1 / float(self.routeDistance())\n",
        "        return self.fitness"
      ],
      "execution_count": null,
      "outputs": []
    },
    {
      "cell_type": "markdown",
      "metadata": {
        "id": "Lxx-IeUYzRt8"
      },
      "source": [
        "## Create our initial population"
      ]
    },
    {
      "cell_type": "markdown",
      "metadata": {
        "id": "7v4T9Gx0zRt9"
      },
      "source": [
        "Route generator"
      ]
    },
    {
      "cell_type": "markdown",
      "metadata": {
        "id": "wK1Qj2JoNVua"
      },
      "source": [
        "---\n",
        "### **2) How did you encode the solution space?**\n",
        "---\n",
        "The solution space, a route, is encoded as a list of N city objects, where each city's x and y attributes are visually represented like a tuple (they are not actual tuples, they are strings printed to look like tuples through __repr__ method) with (x,y) coordinates. The total population is encoded as a list of lists of cities' coordinates, or in other words, the population is a list of routes.\n",
        "\n",
        "From this population, the route (or chromosome) with the shortest total distance will have the greatest fitness and will be taken as the optimal solution for the problem.\n",
        "\n",
        "This form of encoding is called Order Enconding or Permutation Encoding, due to the the chromosome being required to contain all the 25 cities without duplicates or elements missing. The only difference between chromosomes is the order in which the cities are visited."
      ]
    },
    {
      "cell_type": "markdown",
      "metadata": {
        "id": "Be0pgyjpSOFk"
      },
      "source": [
        "---\n",
        "### **3) How did you handle the creation of the initial population?**\n",
        "---\n",
        "The creation of the population is handled at various steps. The first step is done before calling the geneticAlgorithm() -or geneticAlgorithmPlot()- function, where a list called cityList is assigned 25 random tuples (or cities). \n",
        "\n",
        "In the sencond step, this cityList is used in the createRoute() function as a sample route to create other random permutations of the chromosome with the random.sample() function.\n",
        "\n",
        "The third step happens inside the geneticAlgorithm() function. The first lines call the initialPopulation() function which calls the createRoute() to create the initial population using the random permutations of the chromosome. The size of the population, popSize, dictates how many times the initialPopulation() function calls createRoute() function to add another route to the population."
      ]
    },
    {
      "cell_type": "markdown",
      "metadata": {
        "id": "c3rxGtGopE7J"
      },
      "source": [
        "Create routes using a random permutation of the chromosome with the random.sample() function."
      ]
    },
    {
      "cell_type": "code",
      "metadata": {
        "id": "wTE8gacizRt9"
      },
      "source": [
        "def createRoute(cityList):\n",
        "    route = random.sample(cityList, len(cityList))\n",
        "    return route"
      ],
      "execution_count": null,
      "outputs": []
    },
    {
      "cell_type": "markdown",
      "metadata": {
        "id": "hF7Sjl1NzRt-"
      },
      "source": [
        "Create first \"population\" (list of routes)"
      ]
    },
    {
      "cell_type": "code",
      "metadata": {
        "id": "oknxIaNCzRt-"
      },
      "source": [
        "def initialPopulation(popSize, cityList):\n",
        "    population = []\n",
        "\n",
        "    for i in range(0, popSize):\n",
        "        population.append(createRoute(cityList))\n",
        "    return population"
      ],
      "execution_count": null,
      "outputs": []
    },
    {
      "cell_type": "markdown",
      "metadata": {
        "id": "sdBwPN2wfSPP"
      },
      "source": [
        "---\n",
        "### **4) How did you compute the fitness score?**\n",
        "---\n",
        "The fitness score is computed using the Fitness class and rankRoutes function.\n",
        "The Fitness class takes 1 chromosome (route) for each iteration, then it calculates and returns the sum of distances for the visited cities in that chromosome. Finally, the Fitness method assigns each chromosome its fitness by finding the inverse of the total distance travelled (Fitness = 1/ route Distance). This fitness formula is effective because the shorter the distance the better fitness is for a given chromosome.\n",
        "\n",
        "In the rankRoutes() function, a Fitness object is created for each chromosome/route in the population. Once the fitness for each chromosome is calculated, a dictionary is created with the structure {index:fitness}, then a sorted list of tuples is returned with the structure [(index,fitness)]. This list is sorted in descending order based on the fitness of the chromosome. It is important that the routes that have the best fitness are at the beginning of this list, since the elitism functionality of the algorithm depends on this order."
      ]
    },
    {
      "cell_type": "code",
      "metadata": {
        "id": "x9WHNs9AzRt_"
      },
      "source": [
        "def rankRoutes(population):\n",
        "    fitnessResults = {}\n",
        "    for i in range(0,len(population)):\n",
        "        fitnessResults[i] = Fitness(population[i]).routeFitness()\n",
        "    return sorted(fitnessResults.items(), key = operator.itemgetter(1), reverse = True)"
      ],
      "execution_count": null,
      "outputs": []
    },
    {
      "cell_type": "markdown",
      "metadata": {
        "id": "rLBfmn0Et4iD"
      },
      "source": [
        "---\n",
        "### **5) Which parent selection strategy did you use? Why?**\n",
        "---\n",
        "In the starting code selection is done through Elitism and Fitness proportionate selection (aka. \"Roulette wheel selection). \n",
        "\n",
        "First, elitism is used to make sure that a selected number of chromosomes (eliteSize) with the best fitness are selected and  appended at least once to the selectionResults list. Then the roullete wheel selection is simulated by a process called Cumulative Sum that assigns a cumulative percentage to each chromosome based on its fitness: the better its fitness, the lower the percentage, but the larger the slice of the wheel for the given chromosome.\n",
        "\n",
        "Finally, a random number between 0 and 100 is chosen, and the first chromosome to have a percentage >= to the random number will be added to the list.\n",
        "\n",
        "This form of selecting the parents seems to be effective since it balances exploration and exploitation. Exploration is done by adding a factor of randomness through the Roulette wheel selection, and exploitation is done through the implementation of elitism which conserves those solutions with higher fitness. It also preserves high fitness individuals by giving them a larger \"section\" of the wheel, which increases their probability of being selected.\n",
        "\n",
        "It is important to notice that multiple repetitions of the same chromosome are possible. This means that those chromosome with better fitness (such as those in the elite) have greater chances to be selected more than once. Also, the list of selected chromosomes will always stay at a size of 100 (original population size). We can also observe that the list of the selected chromosomes is comprised of Elite Chromosomes + randomly selected chromosomes through the roulette wheel.\n",
        "\n",
        "To do: Research and try to implement other selection strategies.\n",
        "\n",
        "Update: We have implemented two new selection functions, one is a modified roulette wheel selection and the other is tournament selection:\n",
        "\n",
        "* Inspired by the code example in our textbook, \"Grokking Artificial Intelligence Algorithms\" by Rishal Hurbans, we decided to implement a **Roulette wheel selection** that uses Python's built-in lists. This replaces the starter code's Roulette wheel implementation which uses Pandas dataframes structures and functions. With this new implementation, we greatly improved the execution time performance of the program since Python's lists are less computationally expensive to use than Pandas dataframes. Also, our function maintains the same functionality as the starter code since it returns a list with the indexes of the selected routes. Note that if you use the same seed to run the program with either implementation, you will get the same results.\n",
        "\n",
        "![picture](https://drive.google.com/uc?export=view&id=1SGgOzt3CDby90aHb5R1-R3cBrwazYY_J)\n",
        "\n",
        "* Our team also decided to implement **tournament selection**. This consists of randomly drawing a sample of the population and selecting the individual with the highest fitness from that sample. This step is repeated until we have the desired amount of selected parents. This new function maintains the elitism functionality by first selecting those individuals in the elite group.\n",
        "\n",
        "![picture](https://drive.google.com/uc?export=view&id=12k88ZJ2xbzFUp6gvQFy3yhHUx1moGJbq)"
      ]
    },
    {
      "cell_type": "markdown",
      "metadata": {
        "id": "vVtNYdkkzRt_"
      },
      "source": [
        "Create a selection function that will be used to make the list of parent routes"
      ]
    },
    {
      "cell_type": "code",
      "metadata": {
        "id": "JrV1geyjzRuA"
      },
      "source": [
        "def selection(popRanked, eliteSize):\n",
        "    selectionResults = []\n",
        "    df = pd.DataFrame(np.array(popRanked), columns=[\"Index\",\"Fitness\"])\n",
        "    df['cum_sum'] = df.Fitness.cumsum()\n",
        "    df['cum_perc'] = 100*df.cum_sum/df.Fitness.sum()\n",
        "    \n",
        "    for i in range(0, eliteSize):\n",
        "        selectionResults.append(popRanked[i][0])\n",
        "    for i in range(0, len(popRanked) - eliteSize):\n",
        "        pick = 100*random.random()\n",
        "        for i in range(0, len(popRanked)):\n",
        "            if pick <= df.iat[i,3]:\n",
        "                selectionResults.append(popRanked[i][0])\n",
        "                break\n",
        "    return selectionResults\n",
        "\n",
        "#Roulette wheel selection more similar to the one in the textbook (with elitism)\n",
        "def roulette_wheel_selection(popRanked, eliteSize):\n",
        "    '''Takes popRanked list of tuples of the format [(index,fitness),...] and size of elite group. Returns a list of the indices of the selected individuals'''\n",
        "    selectionResults = []\n",
        "    population_sum = sum(individual[1] for individual in popRanked) #sum of individual fitnesses\n",
        "    popRanked_probabilities = [(individual[0], individual[1] / population_sum) for individual in popRanked] #convert popRanked into list of format [(index,probability),...]\n",
        "    slices = []\n",
        "    total = 0\n",
        "    for i in range(eliteSize): #preserve elite individuals\n",
        "        selectionResults.append(popRanked[i][0])\n",
        "    for i in range(len(popRanked)):\n",
        "        individual = popRanked_probabilities[i]\n",
        "        slices.append([i,total, total + individual[1]]) #index 1 stores the probability of that individual\n",
        "        total += individual[1]\n",
        "    for i in range(len(popRanked) - eliteSize):\n",
        "        spin = random.random()\n",
        "        result = [s[0] for s in slices if s[1] < spin <= s[2]]\n",
        "        selectionResults.append(popRanked[result[0]][0]) #store the original population index of the selected individual\n",
        "    return selectionResults\n",
        "\n",
        "#Tournament selection with elitism implementation\n",
        "def tournament_selection(popRanked, eliteSize):\n",
        "    tournament_size = 5\n",
        "    selectionResults = []\n",
        "    for i in range(eliteSize): #preserve elite individuals\n",
        "        selectionResults.append(popRanked[i][0])\n",
        "    for i in range(len(popRanked)-eliteSize):\n",
        "        competitors = random.sample(popRanked, tournament_size) #get random sample of population of size tournament_size\n",
        "        winner = max(competitors, key = lambda individual: individual[1]) #select winner out of the sample based on fitness\n",
        "        selectionResults.append(winner[0])\n",
        "    return selectionResults\n"
      ],
      "execution_count": null,
      "outputs": []
    },
    {
      "cell_type": "markdown",
      "metadata": {
        "id": "EtQgMA2DzRuB"
      },
      "source": [
        "Create mating pool"
      ]
    },
    {
      "cell_type": "code",
      "metadata": {
        "id": "5MvfyXLozRuB"
      },
      "source": [
        "def matingPool(population, selectionResults):\n",
        "    matingpool = []\n",
        "    for i in range(0, len(selectionResults)):\n",
        "        index = selectionResults[i]\n",
        "        matingpool.append(population[index])\n",
        "    return matingpool"
      ],
      "execution_count": null,
      "outputs": []
    },
    {
      "cell_type": "markdown",
      "metadata": {
        "id": "tGHdPQRAFVnX"
      },
      "source": [
        "---\n",
        "### **6) Which crossover strategy(ies) did you try? Which one worked out best?**\n",
        "---\n",
        "The starter code uses Order Crossover, which is a strategy that is effective for breeding chromosomes with a permutation encoding structure. This strategy consists of randomly selecting a subset of the first parent string and attaching it to the child. Then the remainder of the child string is filled with the genes of the second parent in the order which they appear. It is important that genes are not duplicated when appending the cities from the second parent once we have selected the subset from the first parent as that would invalidate the chromosome and it would no longer be a permutation.\n",
        "\n",
        "Note: Research and implement more crossover strategies for order/permutation encoding\n",
        "\n",
        "Update: Our team ran some simmulations of the starter code's order crossover and we found that it did not exactly follow the original order crossover steps. For example, the starter code does not conserve the original indexes of the selected genes when they are inherited to the child. Instead, it copies those genes to the beginning of the child. An example diagram of the starter code's crossover function would look like this:\n",
        "\n",
        "![picture](https://drive.google.com/uc?export=view&id=1cKy3idbtCBM_uENco6rSmzEPavfRr5Nu)\n",
        "\n",
        "So, we implemented a more traditional Order Crossover algorithm that conserves the indexes of selected genes from parent 1. The following is a diagram that visualizes how this breed works. We also include a website that explains the steps for this algorithm.\n",
        "\n",
        "[Example Diagram](https://www.rubicite.com/Tutorials/GeneticAlgorithms/CrossoverOperators/Order1CrossoverOperator.aspx)\n",
        "\n",
        "![picture](https://drive.google.com/uc?export=view&id=1Ev79Eu1i8m1WSr1DQVFf36HRWNWN9tnC)\n",
        "\n",
        "We also decided to implement a experimental form of breeding that we called breed_same_value() which consists of appending those genes that appear in both parent 1 and parent 2 at the same indexes in the same order. Those genes that do not coincide with their indexes are pushed to a stack. That stack is then shuffled and those genes are used to fill the remainder of the child chromosome.\n",
        "\n",
        "Please notice that this is an experimental form of breeding that is explained in one of the videos shared included in the assignment instructions. You can find it here: https://www.youtube.com/watch?v=hnxn6DtLYcY&t\n",
        "\n",
        "The following is a diagram that visualizes our implementation of breed_same_value function:\n",
        "\n",
        "![picture](https://drive.google.com/uc?export=view&id=1pr9k2JUPLl-8N2Ia-Zr_e3HHpDRcATLM)\n",
        "\n",
        "After running all of these breeding variants, the starter code's Order Crossover implementation gave us the best results. This might be due to the function providing more balance between exploitation and diversity which avoids stagnation."
      ]
    },
    {
      "cell_type": "code",
      "metadata": {
        "id": "RBw1kl86zRuC"
      },
      "source": [
        "def breed(parent1, parent2):\n",
        "    child = []\n",
        "    childP1 = []\n",
        "    childP2 = []\n",
        "    \n",
        "    geneA = int(random.random() * len(parent1))\n",
        "    geneB = int(random.random() * len(parent1))\n",
        "    \n",
        "    startGene = min(geneA, geneB)\n",
        "    endGene = max(geneA, geneB)\n",
        "\n",
        "    for i in range(startGene, endGene):\n",
        "        childP1.append(parent1[i])\n",
        "        \n",
        "    childP2 = [item for item in parent2 if item not in childP1]\n",
        "\n",
        "    child = childP1 + childP2\n",
        "    return child\n",
        "\n",
        "def breed_same_value(parent1, parent2):\n",
        "    ind_same_value = []\n",
        "    stack_diff_value = []\n",
        "    child = []\n",
        "    for i in range(len(parent1)):\n",
        "        if parent1[i] == parent2[i]: #if parent1 and parent2 share the same gene at same position\n",
        "            ind_same_value.append(i)\n",
        "        else:\n",
        "            stack_diff_value.append(parent1[i])\n",
        "    random.shuffle(stack_diff_value)\n",
        "    if not ind_same_value: #if parents do not share any genes as the same position\n",
        "        return breed(parent1, parent2)\n",
        "    for i in range(len(parent1)):\n",
        "        if i in ind_same_value:\n",
        "            child.append(parent1[i])\n",
        "        else:\n",
        "            child.append(stack_diff_value.pop())\n",
        "    return child\n",
        "\n",
        "def breed_ordered(parent1, parent2):\n",
        "    child = []\n",
        "    geneA = int(random.random() * len(parent1))\n",
        "    geneB = int(random.random() * len(parent1))\n",
        "    startGene = min(geneA, geneB)\n",
        "    endGene = max(geneA, geneB)\n",
        "    gene_range_p1 = range(startGene,endGene) #store indexes of the selected genes from parent1\n",
        "    gene_range_values_p1 = parent1[startGene:endGene] #store values of selected genes from parent1\n",
        "    for i in range(len(parent1)):\n",
        "        if i in gene_range_p1: #if indexes of selected genes have been reached, append them in the same order as they were in parent1\n",
        "            child.append(parent1[i])\n",
        "        else:\n",
        "            for j in range(len(parent2)):\n",
        "                #if indexes of selected genes not reached, append genes from parent 2 such that duplicates are not allowed\n",
        "                if parent2[j] not in gene_range_values_p1 and parent2[j] not in child:  \n",
        "                    child.append(parent2[j])\n",
        "                    break\n",
        "    return child"
      ],
      "execution_count": null,
      "outputs": []
    },
    {
      "cell_type": "markdown",
      "metadata": {
        "id": "aSGhPXa4zRuC"
      },
      "source": [
        "Create function to run crossover over full mating pool"
      ]
    },
    {
      "cell_type": "code",
      "metadata": {
        "id": "5mZY8ynczRuD"
      },
      "source": [
        "def breedPopulation(matingpool, eliteSize):\n",
        "    children = []\n",
        "    length = len(matingpool) - eliteSize\n",
        "    pool = random.sample(matingpool, len(matingpool))\n",
        "\n",
        "    for i in range(0,eliteSize):\n",
        "        children.append(matingpool[i])\n",
        "    \n",
        "    for i in range(0, length):\n",
        "        if USER_SELECTED_OPTIONS_DICT['breeding'] == '1':\n",
        "            child = breed(pool[i], pool[len(matingpool)-i-1]) #swap mutation\n",
        "        if USER_SELECTED_OPTIONS_DICT['breeding'] == '2':\n",
        "            child = breed_same_value(pool[i], pool[len(matingpool)-i-1]) #Same-value-position crossover\n",
        "        if USER_SELECTED_OPTIONS_DICT['breeding'] == '3':\n",
        "            child = breed_ordered(pool[i], pool[len(matingpool)-i-1]) #Improved order crossover\n",
        "        children.append(child)\n",
        "    return children"
      ],
      "execution_count": null,
      "outputs": []
    },
    {
      "cell_type": "markdown",
      "metadata": {
        "id": "5OlhKCS1c4o0"
      },
      "source": [
        "---\n",
        "### **7) Which mutation strategy(ies) did you try? Which one worked out best?**\n",
        "---\n",
        "The original code uses a mutation strategy called Swap Mutation. Similar to ordered crossover, swap mutation is a special technique that works with ordered encoded chromosomes. It consists of swapping the order of two visited cities in a route randomly.\n",
        "\n",
        "We went ahead and implemented two additional mutation strategies: inversion mutation and scramble mutation. Scramble mutation involves taking a range of genes and scrambling and shuffling their values randomly. Inversion mutation involves selecting a range of genes just as you would in scramble mutation and inverting the entire string in the range.\n",
        "\n",
        "Although these two new strategies, inversion and scramble, add more diversity in the solution space of the algorithm, we found the most consistently desirable results with swap mutation. We found that the performance and results of inversion mutation and scramble mutation were far from stellar and resulted in a worse route than the initial one in some cases.\n",
        "\n",
        "\n",
        "\n",
        "\n"
      ]
    },
    {
      "cell_type": "markdown",
      "metadata": {
        "id": "Eqi3iOMqzRuD"
      },
      "source": [
        "Create function to mutate a single route"
      ]
    },
    {
      "cell_type": "code",
      "metadata": {
        "id": "qIumqFOOzRuD"
      },
      "source": [
        "def mutate(individual, mutationRate):\n",
        "    for swapped in range(len(individual)):\n",
        "        if(random.random() < mutationRate):\n",
        "            swapWith = int(random.random() * len(individual))\n",
        "            \n",
        "            city1 = individual[swapped]\n",
        "            city2 = individual[swapWith]\n",
        "            \n",
        "            individual[swapped] = city2\n",
        "            individual[swapWith] = city1\n",
        "    return individual\n",
        "\n",
        "def mutate_inversion(individual, mutationRate):\n",
        "    if(random.random() < mutationRate):\n",
        "        geneA = int(random.random() * len(individual))\n",
        "        geneB = int(random.random() * len(individual))\n",
        "        startGene = min(geneA, geneB)\n",
        "        endGene = max(geneA, geneB)\n",
        "        individual_copy = individual[:]\n",
        "        individual_subset_reversed = individual_copy[startGene:endGene]\n",
        "        individual_subset_reversed = individual_subset_reversed[::-1] #inverse of given subset\n",
        "        individual[startGene:endGene] = individual_subset_reversed\n",
        "    return individual\n",
        "\n",
        "def mutate_scramble(individual, mutationRate):\n",
        "    if(random.random() < mutationRate):\n",
        "        geneA = int(random.random() * len(individual))\n",
        "        geneB = int(random.random() * len(individual))\n",
        "        startGene = min(geneA, geneB)\n",
        "        endGene = max(geneA, geneB)\n",
        "        subset = individual[startGene:endGene]\n",
        "        subset_scrambled = random.sample(subset,len(subset))\n",
        "        individual[startGene:endGene] = subset_scrambled\n",
        "    return individual"
      ],
      "execution_count": null,
      "outputs": []
    },
    {
      "cell_type": "markdown",
      "metadata": {
        "id": "sBV1BnoqzRuE"
      },
      "source": [
        "Create function to run mutation over entire population"
      ]
    },
    {
      "cell_type": "code",
      "metadata": {
        "id": "kpmUFtx3zRuE"
      },
      "source": [
        "def mutatePopulation(population, mutationRate):\n",
        "    mutatedPop = []\n",
        "    \n",
        "    for ind in range(0, len(population)):\n",
        "        if USER_SELECTED_OPTIONS_DICT['mutation'] == '1':\n",
        "            mutatedInd = mutate(population[ind], mutationRate) #swap mutation\n",
        "        if USER_SELECTED_OPTIONS_DICT['mutation'] == '2':\n",
        "            mutatedInd = mutate_inversion(population[ind], mutationRate) #Inversion mutation\n",
        "        if USER_SELECTED_OPTIONS_DICT['mutation'] == '3':\n",
        "            mutatedInd = mutate_scramble(population[ind], mutationRate) #Scramble mutation\n",
        "        mutatedPop.append(mutatedInd)\n",
        "    return mutatedPop"
      ],
      "execution_count": null,
      "outputs": []
    },
    {
      "cell_type": "markdown",
      "metadata": {
        "id": "dZSWKFwfoEq3"
      },
      "source": [
        "---\n",
        "### **8)Which strategy did you use for populating the next generation? Why?**\n",
        "---\n",
        "The starter code populates the next generation by encapsulating the life cycle in the nextGeneration() function. In this life cycle, the population is ranked (or measured) based on its fitness. Then those individuals with better fitness have better chances of passing to the next generation.\n",
        "\n",
        "Since this implementation supports elitism, those individuals in the elite are ensured that they are chosen during the selection phase, and the rest of the individuals that fill the mating pool so that the population size is kept constant, are selected through the roulette wheel selection. Some of those individuals of the elite have also chances of duplicating in the selection step.\n",
        "\n",
        "Since this program implements elitism with chances of individual duplication, and it mantains a constant population size, this means that those individuals that were not selected to the mating pool will die.\n",
        "\n",
        "This populating strategy is effective because the solutions with the most optimal results will be preserved while also maintaining diversity through the roulette wheel selection method. This strategy is also computationally effective because the population size is controlled by keeping it constant. This contrasts with the solution provided by our textbook in which the population keeps growing as generations pass. "
      ]
    },
    {
      "cell_type": "markdown",
      "metadata": {
        "id": "db6MnL06zRuF"
      },
      "source": [
        "Put all steps together to create the next generation"
      ]
    },
    {
      "cell_type": "code",
      "metadata": {
        "id": "qq-4r8j8zRuF"
      },
      "source": [
        "def nextGeneration(currentGen, eliteSize, mutationRate):\n",
        "    popRanked = rankRoutes(currentGen)\n",
        "    if USER_SELECTED_OPTIONS_DICT['selection'] == '1':\n",
        "        selectionResults = selection(popRanked, eliteSize) #Roulette with Pandas\n",
        "    if USER_SELECTED_OPTIONS_DICT['selection'] == '2':\n",
        "        selectionResults = roulette_wheel_selection(popRanked,eliteSize) #Roulette with lists\n",
        "    if USER_SELECTED_OPTIONS_DICT['selection'] == '3':\n",
        "        selectionResults = tournament_selection(popRanked, eliteSize) #Tournament selection\n",
        "    matingpool = matingPool(currentGen, selectionResults)\n",
        "    children = breedPopulation(matingpool, eliteSize)\n",
        "    nextGeneration = mutatePopulation(children, mutationRate)\n",
        "    return nextGeneration"
      ],
      "execution_count": null,
      "outputs": []
    },
    {
      "cell_type": "markdown",
      "metadata": {
        "id": "tA08_iwX4Jnb"
      },
      "source": [
        "Functions to plot the optimal route and plot the progress throughout all the run generations"
      ]
    },
    {
      "cell_type": "code",
      "metadata": {
        "id": "bUhrn5Qf4JC4"
      },
      "source": [
        "def plot_route(route):\n",
        "    x = [city.x for city in route] + [route[0].x] #list of x coordinates + salesman goes back to initial city\n",
        "    y = [city.y for city in route] + [route[0].y]\n",
        "    #create and show cities' positions subplots\n",
        "    plt.subplot(1,2,1)\n",
        "    plt.scatter(x,y, color = 'b')\n",
        "    plt.ylabel('y-coordinates')\n",
        "    plt.xlabel('x-coordinates')\n",
        "    plt.title('Position of cities to be visited')\n",
        "    #create and show current optimal route\n",
        "    plt.subplot(1,2,2)\n",
        "    plt.plot(x,y,color = 'r',zorder = 2) #draw connecting lines\n",
        "    plt.scatter(x,y,color = 'b', zorder = 1) #draw dots\n",
        "    plt.ylabel('y-coordinates')\n",
        "    plt.xlabel('x-coordinates')\n",
        "    plt.title('Best current solution')\n",
        "    plt.show()\n",
        "\n",
        "def plot_progress(progress):\n",
        "    plt.plot(progress)\n",
        "    plt.ylabel('Distance')\n",
        "    plt.xlabel('Generation')\n",
        "    plt.title('Best route across generations')\n",
        "    plt.show()"
      ],
      "execution_count": null,
      "outputs": []
    },
    {
      "cell_type": "code",
      "metadata": {
        "id": "O3nUwLyv4Sjj"
      },
      "source": [
        "def get_user_selection():\n",
        "    for step in OPTIONS_AVAILABLE_DICT:\n",
        "        print(f\"Which option would you like for **{step}** \")\n",
        "        for option, description in OPTIONS_AVAILABLE_DICT[step].items():\n",
        "            print(f\"Option {option} : {description}\")\n",
        "        while True:\n",
        "            decision = input(f\" Enter your selection for **{step}**: \")\n",
        "            if decision in OPTIONS_AVAILABLE_DICT[step]:\n",
        "                USER_SELECTED_OPTIONS_DICT[step] = decision\n",
        "                break\n",
        "            else:\n",
        "                print('Invalid input, try again: ')\n",
        "                continue\n",
        "    print('\\nYour final selection is: ')\n",
        "    for step, decision_num in USER_SELECTED_OPTIONS_DICT.items():\n",
        "        print(f\"{step}: {decision_num} {OPTIONS_AVAILABLE_DICT[step][decision_num]}\")\n",
        "    print('Please wait for the program to finish running.')\n",
        "\n",
        "def pretty_print_route(route):\n",
        "    print('The optimal route found is: ')\n",
        "    for city in route:\n",
        "        print(f\"{city} -> \", end='')\n",
        "    print(route[0]) #Go back to initial city"
      ],
      "execution_count": null,
      "outputs": []
    },
    {
      "cell_type": "markdown",
      "metadata": {
        "id": "knk7NGQBzRuF"
      },
      "source": [
        "Final step: create the genetic algorithm"
      ]
    },
    {
      "cell_type": "markdown",
      "metadata": {
        "id": "SPFGFQ37yGQh"
      },
      "source": [
        "---\n",
        "### **9) Which stopping condition did you use? Why?**\n",
        "---\n",
        "The starter code used a predifined number of 500 generations for the Genetic Algorithm to be run. This might not be the most optimal stopping condition because as it can be seen from the graph that the original code generates, the best found solution converged at 150 generations (having a seed of 10). According to our textbook, this problem is known as Stagnation, which happens when the population yields solution of similar strength for several generations.\n",
        "\n",
        "We went ahead and addressed the stagnation by developing another stopping condition which stops if there no improvement and we can see considerable improvements in performance.\n",
        "\n",
        "To make sure that the program eventually stops, we also left the number of generations stopping condition intact. This makes the program more computationally efficient by avoiding stagnation, and it also prevents infinite loops which can happen if the progress value (distance) starts to oscillate.\n",
        "\n",
        "A stopping condition based on stagnation seems to be more effective as it lowers the execution time of the program significantly by decreasing the number of generations that the algorithm is run.\n",
        "\n",
        "Another possible approach is to stop when certain value of fitness is achieved by the program. However, due to the randomness and uncertainty of the solution for this problem, it seems like an unreasonable condition to stop the program since the answer is not known beforehand.  "
      ]
    },
    {
      "cell_type": "code",
      "metadata": {
        "id": "BO0l7AUz4d6v"
      },
      "source": [
        "def geneticAlgorithmPlot(population, popSize, eliteSize, mutationRate, generations):\n",
        "    pop = initialPopulation(popSize, population)\n",
        "    print(\"Initial distance: \" + str(1 / rankRoutes(pop)[0][1])) #\n",
        "    initial_best_route_index = rankRoutes(pop)[0][0]\n",
        "    initial_best_route = pop[initial_best_route_index]\n",
        "    plot_route(initial_best_route)\n",
        "\n",
        "    progress = []\n",
        "    progress.append(1 / rankRoutes(pop)[0][1])\n",
        "    no_improvement_count = 0\n",
        "    for i in range(0, generations):\n",
        "        pop = nextGeneration(pop, eliteSize, mutationRate)\n",
        "        progress.append(1 / rankRoutes(pop)[0][1])\n",
        "        if USER_SELECTED_OPTIONS_DICT['stop condition'] == '2':\n",
        "            if progress[i+1] <= progress[i] * 1.01: #if improvement is not greater than 1%\n",
        "                no_improvement_count += 1\n",
        "                if no_improvement_count == 75: #if solution has not progressed for 75 consecutive generations stop\n",
        "                    break\n",
        "            else:\n",
        "                no_improvement_count = 0 #reset counter if there has been improvement\n",
        "    \n",
        "    print(\"\\nFinal distance: \" + str(1 / rankRoutes(pop)[0][1])) #\n",
        "    bestRouteIndex = rankRoutes(pop)[0][0]\n",
        "    bestRoute = pop[bestRouteIndex]\n",
        "    plot_route(bestRoute)\n",
        "\n",
        "    plot_progress(progress)\n",
        "    return bestRoute #"
      ],
      "execution_count": null,
      "outputs": []
    },
    {
      "cell_type": "markdown",
      "metadata": {
        "id": "CuPWmSIQzRuG"
      },
      "source": [
        "## Running the genetic algorithm"
      ]
    },
    {
      "cell_type": "markdown",
      "metadata": {
        "id": "lCXA7UpPzRuH"
      },
      "source": [
        "Create list of cities"
      ]
    },
    {
      "cell_type": "code",
      "metadata": {
        "id": "At9il87WzRuH"
      },
      "source": [
        "cityList = []\n",
        "\n",
        "for i in range(0,25):\n",
        "    cityList.append(City(x=int(random.random() * 200), y=int(random.random() * 200)))"
      ],
      "execution_count": null,
      "outputs": []
    },
    {
      "cell_type": "markdown",
      "metadata": {
        "id": "elo_6rb1zRuH"
      },
      "source": [
        "Run the genetic algorithm"
      ]
    },
    {
      "cell_type": "code",
      "metadata": {
        "colab": {
          "base_uri": "https://localhost:8080/",
          "height": 1000
        },
        "id": "yMe7OrK3zRuJ",
        "outputId": "e1dd98b6-3b3e-43b1-83d1-c477a3a367d2"
      },
      "source": [
        "get_user_selection()\n",
        "start_time = time.time() #measure execution time\n",
        "bestRoute = geneticAlgorithmPlot(population=cityList, popSize=100, eliteSize=20, mutationRate=0.01, generations=500)\n",
        "pretty_print_route(bestRoute)\n",
        "end_time = time.time()\n",
        "total_time = end_time - start_time\n",
        "print('Total time execution time: ', total_time)"
      ],
      "execution_count": null,
      "outputs": [
        {
          "output_type": "stream",
          "text": [
            "Which option would you like for **selection** \n",
            "Option 1 : Roulette Wheel Selection with Pandas\n",
            "Option 2 : Roulette Wheel Selection with lists\n",
            "Option 3 : Tournament Selection\n",
            " Enter your selection for **selection**: 2\n",
            "Which option would you like for **breeding** \n",
            "Option 1 : Order Crossover\n",
            "Option 2 : Same Value-Position Crossover\n",
            "Option 3 : Improved Order Crossover\n",
            " Enter your selection for **breeding**: 1\n",
            "Which option would you like for **mutation** \n",
            "Option 1 : Swap Mutation\n",
            "Option 2 : Inversion Mutation\n",
            "Option 3 : Scramble Mutation\n",
            " Enter your selection for **mutation**: 1\n",
            "Which option would you like for **stop condition** \n",
            "Option 1 : Specified number of Generations\n",
            "Option 2 : Stop if no improvement (Stagnation)\n",
            " Enter your selection for **stop condition**: 2\n",
            "\n",
            "Your final selection is: \n",
            "selection: 2 Roulette Wheel Selection with lists\n",
            "breeding: 1 Order Crossover\n",
            "mutation: 1 Swap Mutation\n",
            "stop condition: 2 Stop if no improvement (Stagnation)\n",
            "Please wait for the program to finish running.\n",
            "Initial distance: 1869.7018381796368\n"
          ],
          "name": "stdout"
        },
        {
          "output_type": "display_data",
          "data": {
            "image/png": "[encoded data removed]",
            "text/plain": [
              "<Figure size 432x288 with 2 Axes>"
            ]
          },
          "metadata": {
            "tags": [],
            "needs_background": "light"
          }
        },
        {
          "output_type": "stream",
          "text": [
            "\n",
            "Final distance: 987.1930970408357\n"
          ],
          "name": "stdout"
        },
        {
          "output_type": "display_data",
          "data": {
            "image/png": "[encoded data removed]",
            "text/plain": [
              "<Figure size 432x288 with 2 Axes>"
            ]
          },
          "metadata": {
            "tags": [],
            "needs_background": "light"
          }
        },
        {
          "output_type": "display_data",
          "data": {
            "image/png": "[encoded data removed]",
            "text/plain": [
              "<Figure size 432x288 with 1 Axes>"
            ]
          },
          "metadata": {
            "tags": [],
            "needs_background": "light"
          }
        },
        {
          "output_type": "stream",
          "text": [
            "The optimal route found is: \n",
            "(99,163) -> (116,168) -> (162,164) -> (196,193) -> (172,120) -> (137,132) -> (131,106) -> (134,91) -> (114,85) -> (104,65) -> (115,41) -> (130,32) -> (188,60) -> (199,8) -> (171,29) -> (122,8) -> (82,7) -> (87,12) -> (0,26) -> (31,44) -> (76,56) -> (62,109) -> (26,153) -> (49,190) -> (73,179) -> (99,163)\n",
            "Total time execution time:  5.3999714851379395\n"
          ],
          "name": "stdout"
        }
      ]
    },
    {
      "cell_type": "markdown",
      "metadata": {
        "id": "jU705bX6zRuJ"
      },
      "source": [
        "Run the function with our assumptions to see how distance has improved in each generation"
      ]
    },
    {
      "cell_type": "markdown",
      "metadata": {
        "id": "h_TxMJQ3YheV"
      },
      "source": [
        "---\n",
        "### **10) What other parameters, design choices, initialization and configuration steps are relevant to your design and implementation?**\n",
        "---\n",
        "Other aspects that are relevant to the algorithm implementation include the parameters that are passed to the geneticAlgorithm()/geneticAlgorithmPlot() functions. For example the **population size** plays an important role on the performance of the program and adds to the diversity of the population. As explained in the course's textbook, a larger population brings more diversity and sometimes it \"balances out the need for mutation\" (Hurbans 126). However, this could also mean that our implementation takes more computational resources than a traditional solution to the problem.\n",
        "\n",
        "The **Elite Size** parameter also plays a key role in the algorithm. This parameter affects the exploitation and exploration aspects of the implementation. The larger the size of this parameter, the more exploitation there is, since the individuals with higher fitness will be retained throughout the generations.  This paremeter is also combined with a **mutation rate** which is another configurable parameter that induces more diversity to the population's offspring. It is important to experiment with the different possible configurations of these parameters and find values that maintain a good balance between exploration and exploitation. As explained by Hurbans, too much diversity \"may deteriorate good-performaing individuals,\" but lower diversity may also result in stagnation of our solution.\n",
        "\n",
        "The **number of offspring** is a relevant design choice for this GA implementation. For this specific program the offspring size remains constant, that is, the initial population size is maintained as the population size throughout all the generations. This means that those individuals that were not in the elite or those that were not selected for breeding were killed to maintain the population size fixed. It would be interesting to implement an algorithm with a dynamic population size, which can improve diversity to our population.\n",
        "\n",
        "\n"
      ]
    },
    {
      "cell_type": "markdown",
      "metadata": {
        "id": "Kck-EKzgYVGm"
      },
      "source": [
        "# Putting the pieces of code together:"
      ]
    },
    {
      "cell_type": "code",
      "metadata": {
        "id": "wNF6Fsi9YN9h"
      },
      "source": [
        "import numpy as np, random, operator, pandas as pd, matplotlib.pyplot as plt\n",
        "import time\n",
        "\n",
        "OPTIONS_AVAILABLE_DICT = {\n",
        "                            'selection':{'1':'Roulette Wheel Selection with Pandas','2':'Roulette Wheel Selection with lists','3':'Tournament Selection'},\n",
        "                            'breeding':{'1':'Order Crossover', '2':'Same Value-Position Crossover', '3':'Improved Order Crossover'},\n",
        "                            'mutation':{'1':'Swap Mutation', '2':'Inversion Mutation', '3':'Scramble Mutation'},\n",
        "                            'stop condition':{'1':'Specified number of Generations', '2':'Stop if no improvement (Stagnation)'}\n",
        "                        }\n",
        "\n",
        "USER_SELECTED_OPTIONS_DICT = {'selection':'1', 'breeding':'1', 'mutation':'1', 'stop condition':'1'}\n",
        "\n",
        "random.seed(10) #Set seed to keep getting consistent results\n",
        "\n",
        "\"\"\"## Create necessary classes and functions\n",
        "\n",
        "Create class to handle \"cities\"\n",
        "\"\"\"\n",
        "\n",
        "class City:\n",
        "    def __init__(self, x, y):\n",
        "        self.x = x\n",
        "        self.y = y\n",
        "    \n",
        "    def distance(self, city):\n",
        "        xDis = abs(self.x - city.x)\n",
        "        yDis = abs(self.y - city.y)\n",
        "        distance = np.sqrt((xDis ** 2) + (yDis ** 2))\n",
        "        return distance\n",
        "    \n",
        "    def __repr__(self):\n",
        "        return \"(\" + str(self.x) + \",\" + str(self.y) + \")\"\n",
        "\n",
        "\"\"\"Create a fitness function\"\"\"\n",
        "\n",
        "class Fitness:\n",
        "    def __init__(self, route):\n",
        "        self.route = route\n",
        "        self.distance = 0\n",
        "        self.fitness= 0.0\n",
        "    \n",
        "    def routeDistance(self):\n",
        "        if self.distance ==0:\n",
        "            pathDistance = 0\n",
        "            for i in range(0, len(self.route)):\n",
        "                fromCity = self.route[i]\n",
        "                toCity = None\n",
        "                if i + 1 < len(self.route):\n",
        "                    toCity = self.route[i + 1]\n",
        "                else:\n",
        "                    toCity = self.route[0]\n",
        "                pathDistance += fromCity.distance(toCity)\n",
        "            self.distance = pathDistance\n",
        "        return self.distance\n",
        "    \n",
        "    def routeFitness(self):\n",
        "        if self.fitness == 0:\n",
        "            self.fitness = 1 / float(self.routeDistance())\n",
        "        return self.fitness\n",
        "\n",
        "\"\"\"## Create our initial population\n",
        "\n",
        "Route generator\n",
        "\"\"\"\n",
        "\n",
        "def createRoute(cityList):\n",
        "    route = random.sample(cityList, len(cityList))\n",
        "    return route\n",
        "\n",
        "\"\"\"Create first \"population\" (list of routes)\"\"\"\n",
        "\n",
        "def initialPopulation(popSize, cityList):\n",
        "    population = []\n",
        "\n",
        "    for i in range(0, popSize):\n",
        "        population.append(createRoute(cityList))\n",
        "    return population\n",
        "\n",
        "\"\"\"## Create the genetic algorithm\n",
        "\n",
        "Rank individuals\n",
        "\"\"\"\n",
        "\n",
        "def rankRoutes(population):\n",
        "    fitnessResults = {}\n",
        "    for i in range(0,len(population)):\n",
        "        fitnessResults[i] = Fitness(population[i]).routeFitness()\n",
        "    return sorted(fitnessResults.items(), key = operator.itemgetter(1), reverse = True)\n",
        "\n",
        "\"\"\"Create a selection function that will be used to make the list of parent routes\"\"\"\n",
        "\n",
        "def selection(popRanked, eliteSize):\n",
        "    selectionResults = []\n",
        "    df = pd.DataFrame(np.array(popRanked), columns=[\"Index\",\"Fitness\"])\n",
        "    df['cum_sum'] = df.Fitness.cumsum()\n",
        "    df['cum_perc'] = 100*df.cum_sum/df.Fitness.sum()\n",
        "    \n",
        "    for i in range(0, eliteSize):\n",
        "        selectionResults.append(popRanked[i][0])\n",
        "    for i in range(0, len(popRanked) - eliteSize):\n",
        "        pick = 100*random.random()\n",
        "        for i in range(0, len(popRanked)):\n",
        "            if pick <= df.iat[i,3]:\n",
        "                selectionResults.append(popRanked[i][0])\n",
        "                break\n",
        "    return selectionResults\n",
        "\n",
        "#Roulette wheel selection more similar to the one in the textbook (with elitism)\n",
        "def roulette_wheel_selection(popRanked, eliteSize):\n",
        "    '''Takes popRanked list of tuples of the format [(index,fitness),...] and size of elite group. Returns a list of the indices of the selected individuals'''\n",
        "    selectionResults = []\n",
        "    population_sum = sum(individual[1] for individual in popRanked) #sum of individual fitnesses\n",
        "    popRanked_probabilities = [(individual[0], individual[1] / population_sum) for individual in popRanked] #convert popRanked into list of format [(index,probability),...]\n",
        "    slices = []\n",
        "    total = 0\n",
        "    for i in range(eliteSize): #preserve elite individuals\n",
        "        selectionResults.append(popRanked[i][0])\n",
        "    for i in range(len(popRanked)):\n",
        "        individual = popRanked_probabilities[i]\n",
        "        slices.append([i,total, total + individual[1]]) #index 1 stores the probability of that individual\n",
        "        total += individual[1]\n",
        "    for i in range(len(popRanked) - eliteSize):\n",
        "        spin = random.random()\n",
        "        result = [s[0] for s in slices if s[1] < spin <= s[2]]\n",
        "        selectionResults.append(popRanked[result[0]][0]) #store the original population index of the selected individual\n",
        "    return selectionResults\n",
        "\n",
        "#Tournament selection with elitism implementation\n",
        "def tournament_selection(popRanked, eliteSize):\n",
        "    tournament_size = 5\n",
        "    selectionResults = []\n",
        "    for i in range(eliteSize): #preserve elite individuals\n",
        "        selectionResults.append(popRanked[i][0])\n",
        "    for i in range(len(popRanked)-eliteSize):\n",
        "        competitors = random.sample(popRanked, tournament_size) #get random sample of population of size tournament_size\n",
        "        winner = max(competitors, key = lambda individual: individual[1]) #select winner out of the sample based on fitness\n",
        "        selectionResults.append(winner[0])\n",
        "    return selectionResults\n",
        "\n",
        "\"\"\"Create mating pool\"\"\"\n",
        "\n",
        "def matingPool(population, selectionResults):\n",
        "    matingpool = []\n",
        "    for i in range(0, len(selectionResults)):\n",
        "        index = selectionResults[i]\n",
        "        matingpool.append(population[index])\n",
        "    return matingpool\n",
        "\n",
        "\"\"\"Create a crossover function for two parents to create one child\"\"\"\n",
        "\n",
        "def breed(parent1, parent2):\n",
        "    child = []\n",
        "    childP1 = []\n",
        "    childP2 = []\n",
        "    \n",
        "    geneA = int(random.random() * len(parent1))\n",
        "    geneB = int(random.random() * len(parent1))\n",
        "    \n",
        "    startGene = min(geneA, geneB)\n",
        "    endGene = max(geneA, geneB)\n",
        "\n",
        "    for i in range(startGene, endGene):\n",
        "        childP1.append(parent1[i])\n",
        "        \n",
        "    childP2 = [item for item in parent2 if item not in childP1]\n",
        "\n",
        "    child = childP1 + childP2\n",
        "    return child\n",
        "\n",
        "def breed_same_value(parent1, parent2):\n",
        "    ind_same_value = []\n",
        "    stack_diff_value = []\n",
        "    child = []\n",
        "    for i in range(len(parent1)):\n",
        "        if parent1[i] == parent2[i]: #if parent1 and parent2 share the same gene at same position\n",
        "            ind_same_value.append(i)\n",
        "        else:\n",
        "            stack_diff_value.append(parent1[i])\n",
        "    random.shuffle(stack_diff_value)\n",
        "    if not ind_same_value: #if parents do not share any genes as the same position\n",
        "        return breed(parent1, parent2)\n",
        "    for i in range(len(parent1)):\n",
        "        if i in ind_same_value:\n",
        "            child.append(parent1[i])\n",
        "        else:\n",
        "            child.append(stack_diff_value.pop())\n",
        "    return child\n",
        "\n",
        "def breed_ordered(parent1, parent2):\n",
        "    child = []\n",
        "    geneA = int(random.random() * len(parent1))\n",
        "    geneB = int(random.random() * len(parent1))\n",
        "    startGene = min(geneA, geneB)\n",
        "    endGene = max(geneA, geneB)\n",
        "    gene_range_p1 = range(startGene,endGene) #store indexes of the selected genes from parent1\n",
        "    gene_range_values_p1 = parent1[startGene:endGene] #store values of selected genes from parent1\n",
        "    for i in range(len(parent1)):\n",
        "        if i in gene_range_p1: #if indexes of selected genes have been reached, append them in the same order as they were in parent1\n",
        "            child.append(parent1[i])\n",
        "        else:\n",
        "            for j in range(len(parent2)):\n",
        "                #if indexes of selected genes not reached, append genes from parent 2 such that duplicates are not allowed\n",
        "                if parent2[j] not in gene_range_values_p1 and parent2[j] not in child:  \n",
        "                    child.append(parent2[j])\n",
        "                    break\n",
        "    return child\n",
        "\n",
        "\n",
        "\"\"\"Create function to run crossover over full mating pool\"\"\"\n",
        "\n",
        "def breedPopulation(matingpool, eliteSize):\n",
        "    children = []\n",
        "    length = len(matingpool) - eliteSize\n",
        "    pool = random.sample(matingpool, len(matingpool))\n",
        "\n",
        "    for i in range(0,eliteSize):\n",
        "        children.append(matingpool[i])\n",
        "    \n",
        "    for i in range(0, length):\n",
        "        if USER_SELECTED_OPTIONS_DICT['breeding'] == '1':\n",
        "            child = breed(pool[i], pool[len(matingpool)-i-1]) #swap mutation\n",
        "        if USER_SELECTED_OPTIONS_DICT['breeding'] == '2':\n",
        "            child = breed_same_value(pool[i], pool[len(matingpool)-i-1]) #Same-value-position crossover\n",
        "        if USER_SELECTED_OPTIONS_DICT['breeding'] == '3':\n",
        "            child = breed_ordered(pool[i], pool[len(matingpool)-i-1]) #Improved order crossover\n",
        "        children.append(child)\n",
        "    return children\n",
        "\n",
        "\"\"\"Create function to mutate a single route\"\"\"\n",
        "\n",
        "def mutate(individual, mutationRate):\n",
        "    for swapped in range(len(individual)):\n",
        "        if(random.random() < mutationRate):\n",
        "            swapWith = int(random.random() * len(individual))\n",
        "            \n",
        "            city1 = individual[swapped]\n",
        "            city2 = individual[swapWith]\n",
        "            \n",
        "            individual[swapped] = city2\n",
        "            individual[swapWith] = city1\n",
        "    return individual\n",
        "\n",
        "def mutate_inversion(individual, mutationRate):\n",
        "    if(random.random() < mutationRate):\n",
        "        geneA = int(random.random() * len(individual))\n",
        "        geneB = int(random.random() * len(individual))\n",
        "        startGene = min(geneA, geneB)\n",
        "        endGene = max(geneA, geneB)\n",
        "        individual_copy = individual[:]\n",
        "        individual_subset_reversed = individual_copy[startGene:endGene]\n",
        "        individual_subset_reversed = individual_subset_reversed[::-1] #inverse of given subset\n",
        "        individual[startGene:endGene] = individual_subset_reversed\n",
        "    return individual\n",
        "\n",
        "def mutate_scramble(individual, mutationRate):\n",
        "    if(random.random() < mutationRate):\n",
        "        geneA = int(random.random() * len(individual))\n",
        "        geneB = int(random.random() * len(individual))\n",
        "        startGene = min(geneA, geneB)\n",
        "        endGene = max(geneA, geneB)\n",
        "        subset = individual[startGene:endGene]\n",
        "        subset_scrambled = random.sample(subset,len(subset))\n",
        "        individual[startGene:endGene] = subset_scrambled\n",
        "    return individual\n",
        "\n",
        "\"\"\"Create function to run mutation over entire population\"\"\"\n",
        "\n",
        "def mutatePopulation(population, mutationRate):\n",
        "    mutatedPop = []\n",
        "    \n",
        "    for ind in range(0, len(population)):\n",
        "        if USER_SELECTED_OPTIONS_DICT['mutation'] == '1':\n",
        "            mutatedInd = mutate(population[ind], mutationRate) #swap mutation\n",
        "        if USER_SELECTED_OPTIONS_DICT['mutation'] == '2':\n",
        "            mutatedInd = mutate_inversion(population[ind], mutationRate) #Inversion mutation\n",
        "        if USER_SELECTED_OPTIONS_DICT['mutation'] == '3':\n",
        "            mutatedInd = mutate_scramble(population[ind], mutationRate) #Scramble mutation\n",
        "        mutatedPop.append(mutatedInd)\n",
        "    return mutatedPop\n",
        "\n",
        "\"\"\"Put all steps together to create the next generation\"\"\"\n",
        "\n",
        "def nextGeneration(currentGen, eliteSize, mutationRate):\n",
        "    popRanked = rankRoutes(currentGen)\n",
        "    if USER_SELECTED_OPTIONS_DICT['selection'] == '1':\n",
        "        selectionResults = selection(popRanked, eliteSize) #Roulette with Pandas\n",
        "    if USER_SELECTED_OPTIONS_DICT['selection'] == '2':\n",
        "        selectionResults = roulette_wheel_selection(popRanked,eliteSize) #Roulette with lists\n",
        "    if USER_SELECTED_OPTIONS_DICT['selection'] == '3':\n",
        "        selectionResults = tournament_selection(popRanked, eliteSize) #Tournament selection\n",
        "    matingpool = matingPool(currentGen, selectionResults)\n",
        "    children = breedPopulation(matingpool, eliteSize)\n",
        "    nextGeneration = mutatePopulation(children, mutationRate)\n",
        "    return nextGeneration\n",
        "\n",
        "def plot_route(route):\n",
        "    x = [city.x for city in route] + [route[0].x] #list of x coordinates + salesman goes back to initial city\n",
        "    y = [city.y for city in route] + [route[0].y]\n",
        "    #create and show cities' positions subplots\n",
        "    plt.subplot(1,2,1)\n",
        "    plt.scatter(x,y, color = 'b')\n",
        "    plt.ylabel('y-coordinates')\n",
        "    plt.xlabel('x-coordinates')\n",
        "    plt.title('Position of cities to be visited')\n",
        "    #create and show current optimal route\n",
        "    plt.subplot(1,2,2)\n",
        "    plt.plot(x,y,color = 'r',zorder = 2) #draw connecting lines\n",
        "    plt.scatter(x,y,color = 'b', zorder = 1) #draw dots\n",
        "    plt.ylabel('y-coordinates')\n",
        "    plt.xlabel('x-coordinates')\n",
        "    plt.title('Best current solution')\n",
        "    plt.show()\n",
        "\n",
        "def plot_progress(progress):\n",
        "    plt.plot(progress)\n",
        "    plt.ylabel('Distance')\n",
        "    plt.xlabel('Generation')\n",
        "    plt.title('Best route across generations')\n",
        "    plt.show()\n",
        "\n",
        "def get_user_selection():\n",
        "    for step in OPTIONS_AVAILABLE_DICT:\n",
        "        print(f\"Which option would you like for **{step}** \")\n",
        "        for option, description in OPTIONS_AVAILABLE_DICT[step].items():\n",
        "            print(f\"Option {option} : {description}\")\n",
        "        while True:\n",
        "            decision = input(f\" Enter your selection for **{step}**: \")\n",
        "            if decision in OPTIONS_AVAILABLE_DICT[step]:\n",
        "                USER_SELECTED_OPTIONS_DICT[step] = decision\n",
        "                break\n",
        "            else:\n",
        "                print('Invalid input, try again: ')\n",
        "                continue\n",
        "    print('\\nYour final selection is: ')\n",
        "    for step, decision_num in USER_SELECTED_OPTIONS_DICT.items():\n",
        "        print(f\"{step}: {decision_num} {OPTIONS_AVAILABLE_DICT[step][decision_num]}\")\n",
        "    print('Please wait for the program to finish running.')\n",
        "\n",
        "def pretty_print_route(route):\n",
        "    print('The optimal route found is: ')\n",
        "    for city in route:\n",
        "        print(f\"{city} -> \", end='')\n",
        "    print(route[0]) #Go back to initial city\n",
        "\n",
        "\"\"\"Final step: create the genetic algorithm\"\"\"\n",
        "\n",
        "def geneticAlgorithm(population, popSize, eliteSize, mutationRate, generations):\n",
        "    pop = initialPopulation(popSize, population)\n",
        "    print(\"Initial distance: \" + str(1 / rankRoutes(pop)[0][1]))\n",
        "    \n",
        "    for i in range(0, generations):\n",
        "        pop = nextGeneration(pop, eliteSize, mutationRate)\n",
        "    \n",
        "    print(\"Final distance: \" + str(1 / rankRoutes(pop)[0][1]))\n",
        "    bestRouteIndex = rankRoutes(pop)[0][0]\n",
        "    bestRoute = pop[bestRouteIndex]\n",
        "    return bestRoute\n",
        "\n",
        "def geneticAlgorithmPlot(population, popSize, eliteSize, mutationRate, generations):\n",
        "    pop = initialPopulation(popSize, population)\n",
        "    print(\"Initial distance: \" + str(1 / rankRoutes(pop)[0][1])) #\n",
        "    initial_best_route_index = rankRoutes(pop)[0][0]\n",
        "    initial_best_route = pop[initial_best_route_index]\n",
        "    plot_route(initial_best_route)\n",
        "\n",
        "    progress = []\n",
        "    progress.append(1 / rankRoutes(pop)[0][1])\n",
        "    no_improvement_count = 0\n",
        "    for i in range(0, generations):\n",
        "        pop = nextGeneration(pop, eliteSize, mutationRate)\n",
        "        progress.append(1 / rankRoutes(pop)[0][1])\n",
        "        if USER_SELECTED_OPTIONS_DICT['stop condition'] == '2':\n",
        "            if progress[i+1] <= progress[i] * 1.01: #if improvement is not greater than 1%\n",
        "                no_improvement_count += 1\n",
        "                if no_improvement_count == 75: #if solution has not progressed for 75 consecutive generations stop\n",
        "                    break\n",
        "            else:\n",
        "                no_improvement_count = 0 #reset counter if there has been improvement\n",
        "    \n",
        "    print(\"Final distance: \" + str(1 / rankRoutes(pop)[0][1])) #\n",
        "    bestRouteIndex = rankRoutes(pop)[0][0]\n",
        "    bestRoute = pop[bestRouteIndex]\n",
        "    plot_route(bestRoute)\n",
        "\n",
        "    plot_progress(progress)\n",
        "    return bestRoute #\n",
        "\n",
        "\"\"\"Run the function with our assumptions to see how distance has improved in each generation\"\"\"\n",
        "\n",
        "\n",
        "\"\"\"## Running the genetic algorithm Create list of cities\"\"\"\n",
        "cityList = []\n",
        "\n",
        "for i in range(0,25):\n",
        "    cityList.append(City(x=int(random.random() * 200), y=int(random.random() * 200)))\n",
        "\n"
      ],
      "execution_count": null,
      "outputs": []
    },
    {
      "cell_type": "markdown",
      "metadata": {
        "id": "iRcuse_4Yuf4"
      },
      "source": [
        "---\n",
        "### **11) Which (simple) experiments have you run to observe the impact of different design decisions and parameter values? Post their results and your comments.**\n",
        "---\n",
        "\n",
        "Some simple experiments done to the algorithm execution include changing the parameters of the geticAlgorithmPlot() function. Let's examine how changing each of them impacts the results of the genetic algorithm:"
      ]
    },
    {
      "cell_type": "markdown",
      "metadata": {
        "id": "U2kn8hLAr6mh"
      },
      "source": [
        "Running the program with the original parameters values: \n",
        "The starter code uses the functions that we discussed in the previous questions. Our team decided to add a menu that allows the user to choose which functions they would like to use.\n",
        "\n",
        "The parameter values can be adjusted from the function call. Therefore, in order to run the program with minor design adjustments, we just need to run the block of code found below.\n",
        "\n",
        "Running the original code with popSize = 200, eliteSize=20, mutationRate = 0.01, and generations = 500 with a random seed = 10 we get a final distance of 978.461.\n",
        "\n",
        "Running the program using the Pandas' dataframe for the wheel selection is too time consuming. It takes 208.10808038711548 seconds to execute according to our measures. Therefore, all the following runs will be done with our implementation of Roullette wheel selection.\n",
        "\n",
        "In order to easily reproduce the results shown in the next text cell, use the code snippet bellow."
      ]
    },
    {
      "cell_type": "code",
      "metadata": {
        "colab": {
          "base_uri": "https://localhost:8080/",
          "height": 1000
        },
        "id": "GqG64_yYr1SZ",
        "outputId": "2995a253-638d-4793-9269-1094448ddebb"
      },
      "source": [
        "get_user_selection()\n",
        "start_time = time.time() #measure execution time\n",
        "bestRoute = geneticAlgorithmPlot(population=cityList, popSize=200, eliteSize=20, mutationRate=0.01, generations=500)\n",
        "pretty_print_route(bestRoute)\n",
        "end_time = time.time()\n",
        "total_time = end_time - start_time\n",
        "print('Total time execution time: ', total_time, 'seconds')"
      ],
      "execution_count": null,
      "outputs": [
        {
          "output_type": "stream",
          "text": [
            "Which option would you like for **selection** \n",
            "Option 1 : Roulette Wheel Selection with Pandas\n",
            "Option 2 : Roulette Wheel Selection with lists\n",
            "Option 3 : Tournament Selection\n",
            " Enter your selection for **selection**: 2\n",
            "Which option would you like for **breeding** \n",
            "Option 1 : Order Crossover\n",
            "Option 2 : Same Value-Position Crossover\n",
            "Option 3 : Improved Order Crossover\n",
            " Enter your selection for **breeding**: 1\n",
            "Which option would you like for **mutation** \n",
            "Option 1 : Swap Mutation\n",
            "Option 2 : Inversion Mutation\n",
            "Option 3 : Scramble Mutation\n",
            " Enter your selection for **mutation**: 1\n",
            "Which option would you like for **stop condition** \n",
            "Option 1 : Specified number of Generations\n",
            "Option 2 : Stop if no improvement (Stagnation)\n",
            " Enter your selection for **stop condition**: 2\n",
            "\n",
            "Your final selection is: \n",
            "selection: 2 Roulette Wheel Selection with lists\n",
            "breeding: 1 Order Crossover\n",
            "mutation: 1 Swap Mutation\n",
            "stop condition: 2 Stop if no improvement (Stagnation)\n",
            "Please wait for the program to finish running.\n",
            "Initial distance: 1869.7018381796368\n"
          ],
          "name": "stdout"
        },
        {
          "output_type": "display_data",
          "data": {
            "image/png": "[encoded data removed]",
            "text/plain": [
              "<Figure size 432x288 with 2 Axes>"
            ]
          },
          "metadata": {
            "tags": [],
            "needs_background": "light"
          }
        },
        {
          "output_type": "stream",
          "text": [
            "Final distance: 1011.9120429494185\n"
          ],
          "name": "stdout"
        },
        {
          "output_type": "display_data",
          "data": {
            "image/png": "[encoded data removed]",
            "text/plain": [
              "<Figure size 432x288 with 2 Axes>"
            ]
          },
          "metadata": {
            "tags": [],
            "needs_background": "light"
          }
        },
        {
          "output_type": "display_data",
          "data": {
            "image/png": "[encoded data removed]",
            "text/plain": [
              "<Figure size 432x288 with 1 Axes>"
            ]
          },
          "metadata": {
            "tags": [],
            "needs_background": "light"
          }
        },
        {
          "output_type": "stream",
          "text": [
            "The optimal route found is: \n",
            "(134,91) -> (188,60) -> (199,8) -> (171,29) -> (122,8) -> (82,7) -> (87,12) -> (130,32) -> (115,41) -> (104,65) -> (76,56) -> (31,44) -> (0,26) -> (62,109) -> (26,153) -> (49,190) -> (73,179) -> (99,163) -> (116,168) -> (162,164) -> (196,193) -> (172,120) -> (137,132) -> (131,106) -> (114,85) -> (134,91)\n",
            "Total time execution time:  10.456236124038696 seconds\n"
          ],
          "name": "stdout"
        }
      ]
    },
    {
      "cell_type": "markdown",
      "metadata": {
        "id": "ZqXXRN92sSXl"
      },
      "source": [
        "*   Population size (popSize)\n",
        "\n",
        "  Using the same configuration as above where we choose this:\n",
        "```\n",
        "selection: 2 Roulette Wheel Selection with lists\n",
        "breeding: 1 Order Crossover\n",
        "mutation: 1 Swap Mutation\n",
        "stop condition: 1 Specified number of Generations\n",
        "```\n",
        "as our final selection, we can see a considerable **DECREASE** in execution time when we decrease our population size by 100. With popSize = 100, we get the same result of an optimal route with a distance of 978 in less time. The average execution time for runs made with popSize = 100 was 10 seconds, 7 seconds faster than the default of popSize = 200 which yields an incredible 41.2% decrease. If we deviate the same amount up to popSize = 300 we can see a considerable **INCREASE** in execution time with runs averaging 22 seconds, which is 5 seconds slower than our intial/default runs. This means that for an increased popSize of 100 we can see a 29.4 increase in execution time. Not only was the execution time more these runs but the \"optimal result\" found was 993, which is 15 more than what we got for runs with smaller population size. This is an 1.5% increase and it is pretty suprising because one would assume that a larger population would lead to more diversity and increase the opportunity of finding a more optimal solution but that does not seem to be the case. This was especially surprising given that the stopping condition was to do the number of specified generations and not stop if no improvement which would make it reasonable to see worse results with a larger population size. I did some more testing and found that if I increase the generations by 100 to generations=600 with the same paremters and popSize = 300 we get similar results and an execution time that is slightly slower (24 seconds). Even doubling the generations yields the same result with an even slower time (39 seconds). I did one final test and chnaged the stopping condition with popSize = 300 and found a faster execution time (12 seconds) but a result that was considerably less optimal (final distance 1054, 7.8 % increase).\n",
        "\n",
        "* Elite Size (eliteSize)\n",
        "\n",
        "  We will be using the same configuration above to test our elite size. Just a reminder, our baseline will be a final distance of 978 and an average execution time of 17 seconds. We will follow the same formula as before and visit equal deviations from the baseline (eliteSize = 20). Lets first explore average results from runs of eliteSize = 10. From the runs we completed we saw an average of 14 seconds for execution time (17.6 % decrease ) and a final distance of 1002 which is 24 more than the baseline (2.5 % increase). At the other end of the spectrum we have eliteSize = 30 which yielded the same average execation time of 14 seconds but an increased final distance of 1018 (4.1% increase). I thought it would be beneficial to experiment a bit more and see how the far end of the elite size spectrum would do so I input eliteSize = 150 and recorded the results. As expected the average execution time was the same as the other deviations (14 seconds) , but the final distance got considerably worse at a final distance of 1452 (48.5% increase). This was probably due to there being lower deversity and we stated before too much diversity \"may deteriorate good-performaing individuals,\" but lower diversity may also result in stagnation of our solution. \n",
        "\n",
        "* Mutation Rate (mutationRate)\n",
        "\n",
        "  We will follow the same steps once again. We will visit results from equal deviations from the baseline (mutationRate = 0.01). First lets explore the lower end at mutationRate = 0.00. It is important to recognize that this essentially means no mutation. At this lower end we see a consistent average of 15 seconds for execution time (11.8 % decrease) and an increased final distance of 1018 (3.5% increase). At the higher end of mutationRate = 0.02 we see a consistent average of 14 seconds (17.6% decrease ) and an increased final distance of 1157 (18.3 increase). It was increase the mutation rate to 10 times the baseline at mutationRate = 0.1  we find that the execution time is consistent at 15 seconds while the final distance is extremly worse at 1966 which is an incredible 101% increase. Once again,  too much diversity \"may deteriorate good-performaing individuals.\"\n",
        "\n",
        "* Generations\n",
        "\n",
        "    Finally we will visit generations. For this paramters our baseline is generations=500 so will equal deviations at 250 and 720. For our first, lower end deviation at generations=250 we find that the average execution time is 8 seconds (52.9 % decrease ) with a reasonable increase in final distance at 1016 (3.9% increase). The decreased final time was very much expected here as we are working with 50% less generations so a time roughly 50% shorter is reasonable. At the other end of the spectrum we see that generations=750 yield an average execution time of 21 seconds (23.5% increase) and a final distance of 1000 (2.2% increase).\n",
        "\n",
        "\n",
        "\n",
        "\n",
        "\n"
      ]
    },
    {
      "cell_type": "markdown",
      "metadata": {
        "id": "noQ22YlxBbDH"
      },
      "source": [
        "---\n",
        "###Conclusion\n",
        "---\n",
        "Implementing the GAs are a great approach for solving optimization problems like the TSP since is very efficient because it doesn't require as much of computational resources as other traditional solutions like brute force. There are 6 core steps to the GA life cycle. First of all, creating the population. Then, determining the fitness. In other words, to determine how fit an individual is. Third, selecting the mating pool. We used the fitness proportional selection [or roulette wheel selection]. Next, the breed. We applied the ordered crossover strategy. Fifth, the mutations. We used the ordered crossover strategy. Finally, repeat. After creating the initial population, we looped through many generations until we had our desired result."
      ]
    },
    {
      "cell_type": "markdown",
      "metadata": {
        "id": "lru3Gxq6603U"
      },
      "source": [
        "---\n",
        "### Who did what?\n",
        "---\n",
        "* Architect (Design of the solution): Mauricio Retana and Juan Pablo Idrovo\n",
        "* Developer (Coding of the solution) - Mauricio Retana and Reynaldo Williams\n",
        "* Reporter (Documentation of the solution) - Mauricio Retana, Juan Pablo Idrovo, Reynaldo Williams"
      ]
    },
    {
      "cell_type": "markdown",
      "metadata": {
        "id": "QCR7Datro-og"
      },
      "source": [
        "---\n",
        "### Future Improvements:\n",
        "---\n",
        "Future improvements to this project would include further error checking when the population is initialized. This is because the cities are chosen randomly in the 200 x 200 grid, but there is no error checking for repeated cities.\n",
        "\n",
        "Other improvements would include making a web-based version of this program, modifying the code so that 2 children are bred using the crossover functions instead of just 1 child. "
      ]
    },
    {
      "cell_type": "markdown",
      "metadata": {
        "id": "1ssVM_bGClOh"
      },
      "source": [
        "### References\n",
        "\n",
        "*   Course's textbook - \"Grokking Artificial Intelligence Algorithms\" by Rishal Hurbans\n",
        "\n",
        "\n",
        "*   Sample Genetic Algorithm implementation from \"Grokking Artificial Intelligence Algorithms\"- https://github.com/rishal-hurbans/Grokking-Artificial-Intelligence-Algorithms/blob/master/ch04-evolutionary_algorithms/knapsack_genetic_algorithm.py\n",
        "\n",
        "\n",
        "*   Video from \"The Coding Train\" - https://www.youtube.com/watch?v=hnxn6DtLYcY\n",
        "\n",
        "\n",
        "*   \"Evolution of a salesman, a complete genetic algorithm tutorial for Python\" by Eric Stoltz (used as starter code)- https://towardsdatascience.com/evolution-of-a-salesman-a-complete-genetic-algorithm-tutorial-for-python-6fe5d2b3ca35\n",
        "\n",
        "\n",
        "*   Rubicite Interactive - https://www.rubicite.com/Tutorials/GeneticAlgorithms/CrossoverOperators/Order1CrossoverOperator.aspx\n",
        "\n",
        "\n",
        "*   Article from GeeksforGeeks - https://www.geeksforgeeks.org/mutation-algorithms-for-string-manipulation-ga/\n",
        "\n",
        "\n",
        "*   Article from Hindawi - https://www.hindawi.com/journals/cin/2017/7430125/\n",
        "\n",
        "\n",
        "* Article from Vijini Mallawaarachchi - https://towardsdatascience.com/introduction-to-genetic-algorithms-including-example-code-e396e98d8bf3\n",
        "\n"
      ]
    }
  ]
}