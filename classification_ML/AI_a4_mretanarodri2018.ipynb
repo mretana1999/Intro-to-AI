{
  "nbformat": 4,
  "nbformat_minor": 0,
  "metadata": {
    "colab": {
      "name": " AI_a4_mretanarodri2018",
      "provenance": [],
      "collapsed_sections": [],
      "include_colab_link": true
    },
    "kernelspec": {
      "name": "python3",
      "display_name": "Python 3"
    }
  },
  "cells": [
    {
      "cell_type": "markdown",
      "metadata": {
        "id": "view-in-github",
        "colab_type": "text"
      },
      "source": [
        "<a href=\"https://colab.research.google.com/github/mretana1999/Intro-to-AI/blob/main/assignment-4/AI_a4_mretanarodri2018.ipynb\" target=\"_parent\"><img src=\"https://colab.research.google.com/assets/colab-badge.svg\" alt=\"Open In Colab\"/></a>"
      ]
    },
    {
      "cell_type": "markdown",
      "metadata": {
        "id": "986Bh9M18Zco"
      },
      "source": [
        "---\n",
        "##Intro to Artificial Intelligence - COP 4630\n",
        "---\n",
        "\n",
        "###Assignment A4: Flower classification using machine learning techniques\n",
        "\n",
        "###** - Mauricio Retana**\n",
        "\n",
        "###** - Juan Pablo Idrovo**\n",
        "\n",
        "###** - Reynaldo Williams**\n",
        "\n",
        "\n",
        "###**Professor - Dr Marques**\n",
        "\n",
        "\n",
        "### Due Date - July 25, 2021\n",
        "\n",
        "### Code used as a reference and starting point: Code from the Prof. Oge Marques URL: https://colab.research.google.com/drive/1Mz6ZUi2VXCsQCCZ0GiwS3YNUthcrPslz?usp=sharing&authuser=1  "
      ]
    },
    {
      "cell_type": "markdown",
      "metadata": {
        "id": "po_eqdzM0eYU"
      },
      "source": [
        "# Introduction:\n",
        "\n",
        "The database consists in 150 examples of 3 different flower sets This is a simple example of a 3-class classifier using the Fisher's Iris dataset. The types of plants are 50 setosa, 50 virginica, and 50 versicolor. We will examine the machine learning workflow by putting in practice its steps. The analysis, the setting up the data, the training, the testing model, and finally, the improvement of the accuracy are the 5 steps for this assignment of artificial intelligence. The importance of each solution is shown by how it is made, from the design to the actual documentation of the program. Fishers Iris flower database as well it is made, requires certain organization and analysis for a more efficient code. In this example, we must convert the string values of the class column to integer numbers because of the algorithm. In the documentation below we will see the details.\n",
        "\n",
        "![picture](https://drive.google.com/uc?export=view&id=12nmRddY8G973TQF0Z9T5IRzI1f2E5lsa)"
      ]
    },
    {
      "cell_type": "markdown",
      "metadata": {
        "id": "1yE1ar-m5yEv"
      },
      "source": [
        "## Flower classification using machine learning techniques\n",
        "This is a simple example of a 3-class classifier using the Fisher's Iris dataset.\n"
      ]
    },
    {
      "cell_type": "markdown",
      "metadata": {
        "id": "32AXUOrLxvoD"
      },
      "source": [
        "Useful references and sources:\n",
        "\n",
        "- https://en.wikipedia.org/wiki/Iris_flower_data_set\n",
        "- https://www.kaggle.com/uciml/iris\n",
        "- http://archive.ics.uci.edu/ml/datasets/Iris/\n",
        "- https://scikit-learn.org/stable/modules/generated/sklearn.datasets.load_iris.html \n",
        "- https://scikit-learn.org/stable/auto_examples/datasets/plot_iris_dataset.html \n",
        "- https://scikit-learn.org/stable/auto_examples/tree/plot_unveil_tree_structure.html\n",
        "- https://scikit-learn.org/stable/tutorial/basic/tutorial.html"
      ]
    },
    {
      "cell_type": "markdown",
      "metadata": {
        "id": "cOX1HBNA6BwG"
      },
      "source": [
        "## Setup\n",
        "\n",
        "We provide the initial setup of the notebook. In this section we import the necessary libraries so you can build your model."
      ]
    },
    {
      "cell_type": "code",
      "metadata": {
        "id": "dcQjdg4D5qwc"
      },
      "source": [
        "import numpy as np\n",
        "import pandas as pd\n",
        "\n",
        "from matplotlib import pyplot as plt\n",
        "\n",
        "import seaborn as sns\n",
        "\n",
        "from sklearn.model_selection import train_test_split\n",
        "from sklearn.neighbors import KNeighborsClassifier\n",
        "from sklearn.metrics import confusion_matrix\n",
        "\n",
        "from joblib import dump, load"
      ],
      "execution_count": null,
      "outputs": []
    },
    {
      "cell_type": "markdown",
      "metadata": {
        "id": "rBKm1n0h6mWx"
      },
      "source": [
        "## Part 1. Load the data\n",
        "\n",
        "The first step is to load the necessary data. \n",
        "\n",
        "Use the command `read_csv` from pandas library to load the Iris dataset. After loading the data into a dataframe, show the top of the dataset. \n",
        "\n",
        "The dataset file URL is https://archive.ics.uci.edu/ml/machine-learning-databases/iris/iris.data."
      ]
    },
    {
      "cell_type": "code",
      "metadata": {
        "id": "WyzD2uVb7sIz",
        "colab": {
          "base_uri": "https://localhost:8080/",
          "height": 204
        },
        "outputId": "135c46bb-efb4-4172-8fa4-fff9c8e62b62"
      },
      "source": [
        "# load the data\n",
        "cols = ['sepal_length', ' sepal_width', 'petal_length', 'petal_width', 'class']\n",
        "iris = pd.read_csv('https://archive.ics.uci.edu/ml/machine-learning-databases/iris/iris.data', names=cols)\n",
        "iris.head()"
      ],
      "execution_count": null,
      "outputs": [
        {
          "output_type": "execute_result",
          "data": {
            "text/html": [
              "<div>\n",
              "<style scoped>\n",
              "    .dataframe tbody tr th:only-of-type {\n",
              "        vertical-align: middle;\n",
              "    }\n",
              "\n",
              "    .dataframe tbody tr th {\n",
              "        vertical-align: top;\n",
              "    }\n",
              "\n",
              "    .dataframe thead th {\n",
              "        text-align: right;\n",
              "    }\n",
              "</style>\n",
              "<table border=\"1\" class=\"dataframe\">\n",
              "  <thead>\n",
              "    <tr style=\"text-align: right;\">\n",
              "      <th></th>\n",
              "      <th>sepal_length</th>\n",
              "      <th>sepal_width</th>\n",
              "      <th>petal_length</th>\n",
              "      <th>petal_width</th>\n",
              "      <th>class</th>\n",
              "    </tr>\n",
              "  </thead>\n",
              "  <tbody>\n",
              "    <tr>\n",
              "      <th>0</th>\n",
              "      <td>5.1</td>\n",
              "      <td>3.5</td>\n",
              "      <td>1.4</td>\n",
              "      <td>0.2</td>\n",
              "      <td>Iris-setosa</td>\n",
              "    </tr>\n",
              "    <tr>\n",
              "      <th>1</th>\n",
              "      <td>4.9</td>\n",
              "      <td>3.0</td>\n",
              "      <td>1.4</td>\n",
              "      <td>0.2</td>\n",
              "      <td>Iris-setosa</td>\n",
              "    </tr>\n",
              "    <tr>\n",
              "      <th>2</th>\n",
              "      <td>4.7</td>\n",
              "      <td>3.2</td>\n",
              "      <td>1.3</td>\n",
              "      <td>0.2</td>\n",
              "      <td>Iris-setosa</td>\n",
              "    </tr>\n",
              "    <tr>\n",
              "      <th>3</th>\n",
              "      <td>4.6</td>\n",
              "      <td>3.1</td>\n",
              "      <td>1.5</td>\n",
              "      <td>0.2</td>\n",
              "      <td>Iris-setosa</td>\n",
              "    </tr>\n",
              "    <tr>\n",
              "      <th>4</th>\n",
              "      <td>5.0</td>\n",
              "      <td>3.6</td>\n",
              "      <td>1.4</td>\n",
              "      <td>0.2</td>\n",
              "      <td>Iris-setosa</td>\n",
              "    </tr>\n",
              "  </tbody>\n",
              "</table>\n",
              "</div>"
            ],
            "text/plain": [
              "   sepal_length   sepal_width  petal_length  petal_width        class\n",
              "0           5.1           3.5           1.4          0.2  Iris-setosa\n",
              "1           4.9           3.0           1.4          0.2  Iris-setosa\n",
              "2           4.7           3.2           1.3          0.2  Iris-setosa\n",
              "3           4.6           3.1           1.5          0.2  Iris-setosa\n",
              "4           5.0           3.6           1.4          0.2  Iris-setosa"
            ]
          },
          "metadata": {
            "tags": []
          },
          "execution_count": 2
        }
      ]
    },
    {
      "cell_type": "markdown",
      "metadata": {
        "id": "NLnaUlxT7_Ej"
      },
      "source": [
        "## Part 2. Explore and visualize the data\n",
        "\n"
      ]
    },
    {
      "cell_type": "markdown",
      "metadata": {
        "id": "rcloHz9TowwG"
      },
      "source": [
        "After loading the dataset into a dataframe in memory, the next step is to perform an exploratory data analysis. The objective of the EDA is to discover as much information as possible about the dataset. \n",
        "\n",
        "The `describe()` method is a good starting point. The `describe()` method prints statistics of the dataset, like mean, standard deviation, etc."
      ]
    },
    {
      "cell_type": "code",
      "metadata": {
        "id": "bqfug4Or51oe",
        "colab": {
          "base_uri": "https://localhost:8080/",
          "height": 297
        },
        "outputId": "4fbb74a3-7d0b-4ee2-d92f-28784cf14c0b"
      },
      "source": [
        "iris.describe()"
      ],
      "execution_count": null,
      "outputs": [
        {
          "output_type": "execute_result",
          "data": {
            "text/html": [
              "<div>\n",
              "<style scoped>\n",
              "    .dataframe tbody tr th:only-of-type {\n",
              "        vertical-align: middle;\n",
              "    }\n",
              "\n",
              "    .dataframe tbody tr th {\n",
              "        vertical-align: top;\n",
              "    }\n",
              "\n",
              "    .dataframe thead th {\n",
              "        text-align: right;\n",
              "    }\n",
              "</style>\n",
              "<table border=\"1\" class=\"dataframe\">\n",
              "  <thead>\n",
              "    <tr style=\"text-align: right;\">\n",
              "      <th></th>\n",
              "      <th>sepal_length</th>\n",
              "      <th>sepal_width</th>\n",
              "      <th>petal_length</th>\n",
              "      <th>petal_width</th>\n",
              "    </tr>\n",
              "  </thead>\n",
              "  <tbody>\n",
              "    <tr>\n",
              "      <th>count</th>\n",
              "      <td>150.000000</td>\n",
              "      <td>150.000000</td>\n",
              "      <td>150.000000</td>\n",
              "      <td>150.000000</td>\n",
              "    </tr>\n",
              "    <tr>\n",
              "      <th>mean</th>\n",
              "      <td>5.843333</td>\n",
              "      <td>3.054000</td>\n",
              "      <td>3.758667</td>\n",
              "      <td>1.198667</td>\n",
              "    </tr>\n",
              "    <tr>\n",
              "      <th>std</th>\n",
              "      <td>0.828066</td>\n",
              "      <td>0.433594</td>\n",
              "      <td>1.764420</td>\n",
              "      <td>0.763161</td>\n",
              "    </tr>\n",
              "    <tr>\n",
              "      <th>min</th>\n",
              "      <td>4.300000</td>\n",
              "      <td>2.000000</td>\n",
              "      <td>1.000000</td>\n",
              "      <td>0.100000</td>\n",
              "    </tr>\n",
              "    <tr>\n",
              "      <th>25%</th>\n",
              "      <td>5.100000</td>\n",
              "      <td>2.800000</td>\n",
              "      <td>1.600000</td>\n",
              "      <td>0.300000</td>\n",
              "    </tr>\n",
              "    <tr>\n",
              "      <th>50%</th>\n",
              "      <td>5.800000</td>\n",
              "      <td>3.000000</td>\n",
              "      <td>4.350000</td>\n",
              "      <td>1.300000</td>\n",
              "    </tr>\n",
              "    <tr>\n",
              "      <th>75%</th>\n",
              "      <td>6.400000</td>\n",
              "      <td>3.300000</td>\n",
              "      <td>5.100000</td>\n",
              "      <td>1.800000</td>\n",
              "    </tr>\n",
              "    <tr>\n",
              "      <th>max</th>\n",
              "      <td>7.900000</td>\n",
              "      <td>4.400000</td>\n",
              "      <td>6.900000</td>\n",
              "      <td>2.500000</td>\n",
              "    </tr>\n",
              "  </tbody>\n",
              "</table>\n",
              "</div>"
            ],
            "text/plain": [
              "       sepal_length   sepal_width  petal_length  petal_width\n",
              "count    150.000000    150.000000    150.000000   150.000000\n",
              "mean       5.843333      3.054000      3.758667     1.198667\n",
              "std        0.828066      0.433594      1.764420     0.763161\n",
              "min        4.300000      2.000000      1.000000     0.100000\n",
              "25%        5.100000      2.800000      1.600000     0.300000\n",
              "50%        5.800000      3.000000      4.350000     1.300000\n",
              "75%        6.400000      3.300000      5.100000     1.800000\n",
              "max        7.900000      4.400000      6.900000     2.500000"
            ]
          },
          "metadata": {
            "tags": []
          },
          "execution_count": 3
        }
      ]
    },
    {
      "cell_type": "markdown",
      "metadata": {
        "id": "3BS3w5bLpq1A"
      },
      "source": [
        "A very important tool in exploratory data analysis is data visualization, which helps us to gain insights about the dataset. "
      ]
    },
    {
      "cell_type": "markdown",
      "metadata": {
        "id": "84mqw1BAy2wa"
      },
      "source": [
        "### TODO 2\n",
        "\n",
        "Write code to generate a pair plot for the Iris dataset."
      ]
    },
    {
      "cell_type": "markdown",
      "metadata": {
        "id": "-qDlCLckY-xS"
      },
      "source": [
        "The next step in our process will be to write some code that will allow us to generate a pair plot for the Iris\n",
        "dataset. The seaborn library has an amazingly useful function for this exact purpose and it is what we will be\n",
        "utilizing today. We will be using the pairplot() function which will allow us to generate an insightful pairplot."
      ]
    },
    {
      "cell_type": "code",
      "metadata": {
        "id": "q5tIy0gbYw0t",
        "colab": {
          "base_uri": "https://localhost:8080/",
          "height": 743
        },
        "outputId": "ec8e5cce-b959-4367-d519-b991f0217702"
      },
      "source": [
        "# ENTER YOUR CODE HERE\n",
        "sns.pairplot(iris, hue = 'class')"
      ],
      "execution_count": null,
      "outputs": [
        {
          "output_type": "execute_result",
          "data": {
            "text/plain": [
              "<seaborn.axisgrid.PairGrid at 0x7ff700119510>"
            ]
          },
          "metadata": {
            "tags": []
          },
          "execution_count": 4
        },
        {
          "output_type": "display_data",
          "data": {
            "image/png": "[encoded data removed]",
            "text/plain": [
              "<Figure size 823.25x720 with 20 Axes>"
            ]
          },
          "metadata": {
            "tags": [],
            "needs_background": "light"
          }
        }
      ]
    },
    {
      "cell_type": "markdown",
      "metadata": {
        "id": "Q6PxTHTEZqUX"
      },
      "source": [
        "\n",
        "#### Notes:\n",
        "\n",
        "---\n",
        "We found it optimal to color the plot on the basis of class to give more insight into the information we are seeing. So on our plot there are different colors / hues for the three different classes of iris (iris versicolor,\n",
        "iris setosa, and iris virginica)"
      ]
    },
    {
      "cell_type": "markdown",
      "metadata": {
        "id": "RXPntmHEmOWI"
      },
      "source": [
        "## Part 3. Preprocess the data"
      ]
    },
    {
      "cell_type": "markdown",
      "metadata": {
        "id": "On4l-O2oqx7N"
      },
      "source": [
        "Frequently, the dataset collected from databases, files or scraping the internet is not ready\n",
        "to be consumed by a machine learning algorithm. \n",
        "\n",
        "In most cases, the dataset needs some kind of preparation or preprocessing before being used as input to a machine learning algorithm. \n",
        "\n",
        "In this case, we convert the string values of the class column to integer numbers because the algorithm we are going to use does not process string values."
      ]
    },
    {
      "cell_type": "markdown",
      "metadata": {
        "id": "IGAKVEF8aVd9"
      },
      "source": [
        "#### Notes:\n",
        "\n",
        "---\n",
        "\n",
        "Our textbook, Grokking Artificial Intelligence Algorithms, referred to this step as Clean and Wrangle, stating that 'real-world data is never ideal to work with'."
      ]
    },
    {
      "cell_type": "code",
      "metadata": {
        "id": "KeIagBShnNhl",
        "colab": {
          "base_uri": "https://localhost:8080/"
        },
        "outputId": "92cbdfa6-23b1-4ab1-f6c1-0583e480523d"
      },
      "source": [
        "iris['class'].unique()"
      ],
      "execution_count": null,
      "outputs": [
        {
          "output_type": "execute_result",
          "data": {
            "text/plain": [
              "array(['Iris-setosa', 'Iris-versicolor', 'Iris-virginica'], dtype=object)"
            ]
          },
          "metadata": {
            "tags": []
          },
          "execution_count": 5
        }
      ]
    },
    {
      "cell_type": "code",
      "metadata": {
        "id": "aKJyzKF_mTDA",
        "colab": {
          "base_uri": "https://localhost:8080/"
        },
        "outputId": "ee7ef9a9-0e95-42c0-a6ed-96fd3bc05576"
      },
      "source": [
        "iris['class_encod'] = iris['class'].apply(lambda x: 0 if x == 'Iris-setosa' else 1 if x == 'Iris-versicolor' else 2)\n",
        "iris['class_encod'].unique()"
      ],
      "execution_count": null,
      "outputs": [
        {
          "output_type": "execute_result",
          "data": {
            "text/plain": [
              "array([0, 1, 2])"
            ]
          },
          "metadata": {
            "tags": []
          },
          "execution_count": 6
        }
      ]
    },
    {
      "cell_type": "code",
      "metadata": {
        "colab": {
          "base_uri": "https://localhost:8080/",
          "height": 204
        },
        "id": "MlO64ZJda-Po",
        "outputId": "84724b5e-93a1-42b1-cb1c-aa3a4b2f84dc"
      },
      "source": [
        "y = iris[['class_encod']] # target attributes \n",
        "X = iris.iloc[:, 0:4] # input attributes\n",
        "X.head()"
      ],
      "execution_count": null,
      "outputs": [
        {
          "output_type": "execute_result",
          "data": {
            "text/html": [
              "<div>\n",
              "<style scoped>\n",
              "    .dataframe tbody tr th:only-of-type {\n",
              "        vertical-align: middle;\n",
              "    }\n",
              "\n",
              "    .dataframe tbody tr th {\n",
              "        vertical-align: top;\n",
              "    }\n",
              "\n",
              "    .dataframe thead th {\n",
              "        text-align: right;\n",
              "    }\n",
              "</style>\n",
              "<table border=\"1\" class=\"dataframe\">\n",
              "  <thead>\n",
              "    <tr style=\"text-align: right;\">\n",
              "      <th></th>\n",
              "      <th>sepal_length</th>\n",
              "      <th>sepal_width</th>\n",
              "      <th>petal_length</th>\n",
              "      <th>petal_width</th>\n",
              "    </tr>\n",
              "  </thead>\n",
              "  <tbody>\n",
              "    <tr>\n",
              "      <th>0</th>\n",
              "      <td>5.1</td>\n",
              "      <td>3.5</td>\n",
              "      <td>1.4</td>\n",
              "      <td>0.2</td>\n",
              "    </tr>\n",
              "    <tr>\n",
              "      <th>1</th>\n",
              "      <td>4.9</td>\n",
              "      <td>3.0</td>\n",
              "      <td>1.4</td>\n",
              "      <td>0.2</td>\n",
              "    </tr>\n",
              "    <tr>\n",
              "      <th>2</th>\n",
              "      <td>4.7</td>\n",
              "      <td>3.2</td>\n",
              "      <td>1.3</td>\n",
              "      <td>0.2</td>\n",
              "    </tr>\n",
              "    <tr>\n",
              "      <th>3</th>\n",
              "      <td>4.6</td>\n",
              "      <td>3.1</td>\n",
              "      <td>1.5</td>\n",
              "      <td>0.2</td>\n",
              "    </tr>\n",
              "    <tr>\n",
              "      <th>4</th>\n",
              "      <td>5.0</td>\n",
              "      <td>3.6</td>\n",
              "      <td>1.4</td>\n",
              "      <td>0.2</td>\n",
              "    </tr>\n",
              "  </tbody>\n",
              "</table>\n",
              "</div>"
            ],
            "text/plain": [
              "   sepal_length   sepal_width  petal_length  petal_width\n",
              "0           5.1           3.5           1.4          0.2\n",
              "1           4.9           3.0           1.4          0.2\n",
              "2           4.7           3.2           1.3          0.2\n",
              "3           4.6           3.1           1.5          0.2\n",
              "4           5.0           3.6           1.4          0.2"
            ]
          },
          "metadata": {
            "tags": []
          },
          "execution_count": 7
        }
      ]
    },
    {
      "cell_type": "code",
      "metadata": {
        "colab": {
          "base_uri": "https://localhost:8080/",
          "height": 204
        },
        "id": "el8obqLtbM4W",
        "outputId": "576c35ac-ecff-4f48-b5ab-ff0a77783820"
      },
      "source": [
        "y.head()"
      ],
      "execution_count": null,
      "outputs": [
        {
          "output_type": "execute_result",
          "data": {
            "text/html": [
              "<div>\n",
              "<style scoped>\n",
              "    .dataframe tbody tr th:only-of-type {\n",
              "        vertical-align: middle;\n",
              "    }\n",
              "\n",
              "    .dataframe tbody tr th {\n",
              "        vertical-align: top;\n",
              "    }\n",
              "\n",
              "    .dataframe thead th {\n",
              "        text-align: right;\n",
              "    }\n",
              "</style>\n",
              "<table border=\"1\" class=\"dataframe\">\n",
              "  <thead>\n",
              "    <tr style=\"text-align: right;\">\n",
              "      <th></th>\n",
              "      <th>class_encod</th>\n",
              "    </tr>\n",
              "  </thead>\n",
              "  <tbody>\n",
              "    <tr>\n",
              "      <th>0</th>\n",
              "      <td>0</td>\n",
              "    </tr>\n",
              "    <tr>\n",
              "      <th>1</th>\n",
              "      <td>0</td>\n",
              "    </tr>\n",
              "    <tr>\n",
              "      <th>2</th>\n",
              "      <td>0</td>\n",
              "    </tr>\n",
              "    <tr>\n",
              "      <th>3</th>\n",
              "      <td>0</td>\n",
              "    </tr>\n",
              "    <tr>\n",
              "      <th>4</th>\n",
              "      <td>0</td>\n",
              "    </tr>\n",
              "  </tbody>\n",
              "</table>\n",
              "</div>"
            ],
            "text/plain": [
              "   class_encod\n",
              "0            0\n",
              "1            0\n",
              "2            0\n",
              "3            0\n",
              "4            0"
            ]
          },
          "metadata": {
            "tags": []
          },
          "execution_count": 8
        }
      ]
    },
    {
      "cell_type": "markdown",
      "metadata": {
        "id": "5T55mnREaEds"
      },
      "source": [
        "### TODO 3\n",
        "Write code to normalize the features of the iris dataset so that all attributes fit within the [0..1] range."
      ]
    },
    {
      "cell_type": "code",
      "metadata": {
        "id": "8EK6_FP6ab6s",
        "colab": {
          "base_uri": "https://localhost:8080/",
          "height": 297
        },
        "outputId": "fe83c545-ec11-4afe-edae-60e57d9a9231"
      },
      "source": [
        "from sklearn.preprocessing import MinMaxScaler\n",
        "scaler = MinMaxScaler()\n",
        "X = scaler.fit_transform(X.to_numpy())\n",
        "X = pd.DataFrame(X, columns = ['sepal_length','sepal_width','petal_length','petal_width'])\n",
        "X.describe()"
      ],
      "execution_count": null,
      "outputs": [
        {
          "output_type": "execute_result",
          "data": {
            "text/html": [
              "<div>\n",
              "<style scoped>\n",
              "    .dataframe tbody tr th:only-of-type {\n",
              "        vertical-align: middle;\n",
              "    }\n",
              "\n",
              "    .dataframe tbody tr th {\n",
              "        vertical-align: top;\n",
              "    }\n",
              "\n",
              "    .dataframe thead th {\n",
              "        text-align: right;\n",
              "    }\n",
              "</style>\n",
              "<table border=\"1\" class=\"dataframe\">\n",
              "  <thead>\n",
              "    <tr style=\"text-align: right;\">\n",
              "      <th></th>\n",
              "      <th>sepal_length</th>\n",
              "      <th>sepal_width</th>\n",
              "      <th>petal_length</th>\n",
              "      <th>petal_width</th>\n",
              "    </tr>\n",
              "  </thead>\n",
              "  <tbody>\n",
              "    <tr>\n",
              "      <th>count</th>\n",
              "      <td>150.000000</td>\n",
              "      <td>150.000000</td>\n",
              "      <td>150.000000</td>\n",
              "      <td>150.000000</td>\n",
              "    </tr>\n",
              "    <tr>\n",
              "      <th>mean</th>\n",
              "      <td>0.428704</td>\n",
              "      <td>0.439167</td>\n",
              "      <td>0.467571</td>\n",
              "      <td>0.457778</td>\n",
              "    </tr>\n",
              "    <tr>\n",
              "      <th>std</th>\n",
              "      <td>0.230018</td>\n",
              "      <td>0.180664</td>\n",
              "      <td>0.299054</td>\n",
              "      <td>0.317984</td>\n",
              "    </tr>\n",
              "    <tr>\n",
              "      <th>min</th>\n",
              "      <td>0.000000</td>\n",
              "      <td>0.000000</td>\n",
              "      <td>0.000000</td>\n",
              "      <td>0.000000</td>\n",
              "    </tr>\n",
              "    <tr>\n",
              "      <th>25%</th>\n",
              "      <td>0.222222</td>\n",
              "      <td>0.333333</td>\n",
              "      <td>0.101695</td>\n",
              "      <td>0.083333</td>\n",
              "    </tr>\n",
              "    <tr>\n",
              "      <th>50%</th>\n",
              "      <td>0.416667</td>\n",
              "      <td>0.416667</td>\n",
              "      <td>0.567797</td>\n",
              "      <td>0.500000</td>\n",
              "    </tr>\n",
              "    <tr>\n",
              "      <th>75%</th>\n",
              "      <td>0.583333</td>\n",
              "      <td>0.541667</td>\n",
              "      <td>0.694915</td>\n",
              "      <td>0.708333</td>\n",
              "    </tr>\n",
              "    <tr>\n",
              "      <th>max</th>\n",
              "      <td>1.000000</td>\n",
              "      <td>1.000000</td>\n",
              "      <td>1.000000</td>\n",
              "      <td>1.000000</td>\n",
              "    </tr>\n",
              "  </tbody>\n",
              "</table>\n",
              "</div>"
            ],
            "text/plain": [
              "       sepal_length  sepal_width  petal_length  petal_width\n",
              "count    150.000000   150.000000    150.000000   150.000000\n",
              "mean       0.428704     0.439167      0.467571     0.457778\n",
              "std        0.230018     0.180664      0.299054     0.317984\n",
              "min        0.000000     0.000000      0.000000     0.000000\n",
              "25%        0.222222     0.333333      0.101695     0.083333\n",
              "50%        0.416667     0.416667      0.567797     0.500000\n",
              "75%        0.583333     0.541667      0.694915     0.708333\n",
              "max        1.000000     1.000000      1.000000     1.000000"
            ]
          },
          "metadata": {
            "tags": []
          },
          "execution_count": 9
        }
      ]
    },
    {
      "cell_type": "markdown",
      "metadata": {
        "id": "jBcrUXkM90AK"
      },
      "source": [
        "## Part 4. Select an algorithm and train the model"
      ]
    },
    {
      "cell_type": "markdown",
      "metadata": {
        "id": "-ntwwoAwr5X3"
      },
      "source": [
        "After exploring and preprocessing our data we can build our machine learning model to classify Iris specimens. \n",
        "\n",
        "The method `train_test_split()` will split the `X` and `y` dataframes in training data and test data.\n"
      ]
    },
    {
      "cell_type": "code",
      "metadata": {
        "id": "KjUvKy7nn8AL",
        "colab": {
          "base_uri": "https://localhost:8080/"
        },
        "outputId": "cc2d58ad-2bcc-45ce-8887-495151e04a77"
      },
      "source": [
        "import random\n",
        "random.seed(42) # for reproducibility purposes\n",
        "X_train, X_test, y_train, y_test = train_test_split(X, y, test_size=0.3,\n",
        "                                                    random_state=0, stratify=y)\n",
        "\n",
        "np.shape(y_train)"
      ],
      "execution_count": null,
      "outputs": [
        {
          "output_type": "execute_result",
          "data": {
            "text/plain": [
              "(105, 1)"
            ]
          },
          "metadata": {
            "tags": []
          },
          "execution_count": 10
        }
      ]
    },
    {
      "cell_type": "markdown",
      "metadata": {
        "id": "hDkZLtjXtRhb"
      },
      "source": [
        "### 4.1 K-nearest-neighbors (KNN) classifier\n",
        "\n",
        "Let's use `X_train` and `y_train` to build a KNN classifier, using the `KNeighborsClassifier` class provided by scikit-learn. \n",
        "\n",
        "Because the machine learning algorithm is already implemented by the library, all we have to do is call the method `fit()` passing the `X_train` and `y_train` datasets as arguments."
      ]
    },
    {
      "cell_type": "code",
      "metadata": {
        "id": "eWBgKXK1uw34",
        "colab": {
          "base_uri": "https://localhost:8080/"
        },
        "outputId": "ba2d1652-3358-433d-d341-3d37e8308324"
      },
      "source": [
        "m = KNeighborsClassifier()\n",
        "m.fit(X_train, np.ravel(y_train))"
      ],
      "execution_count": null,
      "outputs": [
        {
          "output_type": "execute_result",
          "data": {
            "text/plain": [
              "KNeighborsClassifier(algorithm='auto', leaf_size=30, metric='minkowski',\n",
              "                     metric_params=None, n_jobs=None, n_neighbors=5, p=2,\n",
              "                     weights='uniform')"
            ]
          },
          "metadata": {
            "tags": []
          },
          "execution_count": 11
        }
      ]
    },
    {
      "cell_type": "markdown",
      "metadata": {
        "id": "EyZO-szftuhT"
      },
      "source": [
        "Once the model is built, we can use the `predict()` method to calculate the predicted category of a instance. \n",
        "\n",
        "In this case, we want to predict the class of the first 10 lines of the `X_test` dataset. The return is an array containing the estimated categories."
      ]
    },
    {
      "cell_type": "code",
      "metadata": {
        "id": "Z7fNqPvzoxzY",
        "colab": {
          "base_uri": "https://localhost:8080/"
        },
        "outputId": "2f07dc8e-5ab0-402b-af35-e086fccc77da"
      },
      "source": [
        "m.predict(X_test.iloc[0:10])"
      ],
      "execution_count": null,
      "outputs": [
        {
          "output_type": "execute_result",
          "data": {
            "text/plain": [
              "array([2, 2, 0, 0, 1, 0, 1, 2, 0, 1])"
            ]
          },
          "metadata": {
            "tags": []
          },
          "execution_count": 12
        }
      ]
    },
    {
      "cell_type": "code",
      "metadata": {
        "id": "fmU5MyyopUjg",
        "colab": {
          "base_uri": "https://localhost:8080/",
          "height": 359
        },
        "outputId": "2c79f9ca-b2af-422f-cb94-fd625faa690b"
      },
      "source": [
        "y_test[0:10]"
      ],
      "execution_count": null,
      "outputs": [
        {
          "output_type": "execute_result",
          "data": {
            "text/html": [
              "<div>\n",
              "<style scoped>\n",
              "    .dataframe tbody tr th:only-of-type {\n",
              "        vertical-align: middle;\n",
              "    }\n",
              "\n",
              "    .dataframe tbody tr th {\n",
              "        vertical-align: top;\n",
              "    }\n",
              "\n",
              "    .dataframe thead th {\n",
              "        text-align: right;\n",
              "    }\n",
              "</style>\n",
              "<table border=\"1\" class=\"dataframe\">\n",
              "  <thead>\n",
              "    <tr style=\"text-align: right;\">\n",
              "      <th></th>\n",
              "      <th>class_encod</th>\n",
              "    </tr>\n",
              "  </thead>\n",
              "  <tbody>\n",
              "    <tr>\n",
              "      <th>136</th>\n",
              "      <td>2</td>\n",
              "    </tr>\n",
              "    <tr>\n",
              "      <th>142</th>\n",
              "      <td>2</td>\n",
              "    </tr>\n",
              "    <tr>\n",
              "      <th>39</th>\n",
              "      <td>0</td>\n",
              "    </tr>\n",
              "    <tr>\n",
              "      <th>44</th>\n",
              "      <td>0</td>\n",
              "    </tr>\n",
              "    <tr>\n",
              "      <th>50</th>\n",
              "      <td>1</td>\n",
              "    </tr>\n",
              "    <tr>\n",
              "      <th>23</th>\n",
              "      <td>0</td>\n",
              "    </tr>\n",
              "    <tr>\n",
              "      <th>90</th>\n",
              "      <td>1</td>\n",
              "    </tr>\n",
              "    <tr>\n",
              "      <th>149</th>\n",
              "      <td>2</td>\n",
              "    </tr>\n",
              "    <tr>\n",
              "      <th>46</th>\n",
              "      <td>0</td>\n",
              "    </tr>\n",
              "    <tr>\n",
              "      <th>55</th>\n",
              "      <td>1</td>\n",
              "    </tr>\n",
              "  </tbody>\n",
              "</table>\n",
              "</div>"
            ],
            "text/plain": [
              "     class_encod\n",
              "136            2\n",
              "142            2\n",
              "39             0\n",
              "44             0\n",
              "50             1\n",
              "23             0\n",
              "90             1\n",
              "149            2\n",
              "46             0\n",
              "55             1"
            ]
          },
          "metadata": {
            "tags": []
          },
          "execution_count": 13
        }
      ]
    },
    {
      "cell_type": "markdown",
      "metadata": {
        "id": "NtPMXLO7uP4z"
      },
      "source": [
        "We can use methods like `score()` and `confusion_matrix()` to measure the performance of our model. \n",
        "\n",
        "We see that the accuracy of our model is very close to 100%, which means that the model predicted correctly almost all cases of the test dataset. "
      ]
    },
    {
      "cell_type": "code",
      "metadata": {
        "id": "FjioiGg9pZkf",
        "colab": {
          "base_uri": "https://localhost:8080/"
        },
        "outputId": "8f3c63c9-a17b-4e28-de6f-67124fa1ef88"
      },
      "source": [
        "m.score(X_test, y_test)"
      ],
      "execution_count": null,
      "outputs": [
        {
          "output_type": "execute_result",
          "data": {
            "text/plain": [
              "0.9777777777777777"
            ]
          },
          "metadata": {
            "tags": []
          },
          "execution_count": 14
        }
      ]
    },
    {
      "cell_type": "markdown",
      "metadata": {
        "id": "rwOD8NMheHJp"
      },
      "source": [
        "A confusion matrix shows where the errors occurred, i.e., which classes were misclassified. "
      ]
    },
    {
      "cell_type": "code",
      "metadata": {
        "colab": {
          "base_uri": "https://localhost:8080/",
          "height": 573
        },
        "id": "EyaqJVu0eaIb",
        "outputId": "38929ad6-e72e-4ab2-ca46-838e6b5c60a8"
      },
      "source": [
        "# Plot non-normalized confusion matrix\n",
        "from sklearn.metrics import plot_confusion_matrix\n",
        "\n",
        "titles_options = [(\"Confusion matrix, without normalization\", None),\n",
        "                  (\"Normalized confusion matrix\", 'true')]\n",
        "for title, normalize in titles_options:\n",
        "    disp = plot_confusion_matrix(m, X_test, y_test,\n",
        "                                 display_labels=iris['class'].unique(),\n",
        "                                 cmap=plt.cm.Blues,\n",
        "                                 normalize=normalize)\n",
        "    disp.ax_.set_title(title)\n",
        "\n",
        "plt.show()"
      ],
      "execution_count": null,
      "outputs": [
        {
          "output_type": "display_data",
          "data": {
            "image/png": "[encoded data removed]",
            "text/plain": [
              "<Figure size 432x288 with 2 Axes>"
            ]
          },
          "metadata": {
            "tags": [],
            "needs_background": "light"
          }
        },
        {
          "output_type": "display_data",
          "data": {
            "image/png": "[encoded data removed]",
            "text/plain": [
              "<Figure size 432x288 with 2 Axes>"
            ]
          },
          "metadata": {
            "tags": [],
            "needs_background": "light"
          }
        }
      ]
    },
    {
      "cell_type": "markdown",
      "metadata": {
        "id": "g0iW_fSG979T"
      },
      "source": [
        "#### Save the model for later use"
      ]
    },
    {
      "cell_type": "markdown",
      "metadata": {
        "id": "XttuPLjiu29n"
      },
      "source": [
        "We might want to save our model for later use. \n",
        "\n",
        "For example, we could embed our model into a webservice or mobile application. So we use the method `dump()` from the joblib package to save the model to a file."
      ]
    },
    {
      "cell_type": "code",
      "metadata": {
        "id": "Oj_xDT5g8QXI",
        "colab": {
          "base_uri": "https://localhost:8080/"
        },
        "outputId": "ea82f180-bce6-44bb-ad75-de233b31ffc5"
      },
      "source": [
        "dump(m, 'iris-classifier.dmp')"
      ],
      "execution_count": null,
      "outputs": [
        {
          "output_type": "execute_result",
          "data": {
            "text/plain": [
              "['iris-classifier.dmp']"
            ]
          },
          "metadata": {
            "tags": []
          },
          "execution_count": 16
        }
      ]
    },
    {
      "cell_type": "code",
      "metadata": {
        "id": "fgdzQ1anwHuG",
        "colab": {
          "base_uri": "https://localhost:8080/"
        },
        "outputId": "c7ff5147-0168-4d02-dcdf-14a7b281cf90"
      },
      "source": [
        "ic_knn = load('iris-classifier.dmp')\n",
        "confusion_matrix(y_test, ic_knn.predict(X_test))"
      ],
      "execution_count": null,
      "outputs": [
        {
          "output_type": "execute_result",
          "data": {
            "text/plain": [
              "array([[15,  0,  0],\n",
              "       [ 0, 15,  0],\n",
              "       [ 0,  1, 14]])"
            ]
          },
          "metadata": {
            "tags": []
          },
          "execution_count": 17
        }
      ]
    },
    {
      "cell_type": "markdown",
      "metadata": {
        "id": "th0v2Mw6fP0Z"
      },
      "source": [
        "### 4.2 Decision tree classifier\n"
      ]
    },
    {
      "cell_type": "markdown",
      "metadata": {
        "id": "Ui4zH7BRfXMv"
      },
      "source": [
        "### TODO 4\n",
        "\n",
        "Write code to build a decision tree classifier, using the `DecisionTreeClassifier` class provided by scikit-learn. \n",
        "\n",
        "Similarly to 4.1 above, your code should build, train, and test the classifier, compute its accuracy, display the confusion matrices, save the model to a file for later use, load it from file and confirm that it's working.\n"
      ]
    },
    {
      "cell_type": "code",
      "metadata": {
        "id": "DypGlZ_6gtqp"
      },
      "source": [
        "from sklearn import tree\n",
        "clf = tree.DecisionTreeClassifier()\n",
        "clf = clf.fit(X_train,y_train)"
      ],
      "execution_count": null,
      "outputs": []
    },
    {
      "cell_type": "code",
      "metadata": {
        "colab": {
          "base_uri": "https://localhost:8080/"
        },
        "id": "7rXBCw0jsAjg",
        "outputId": "af7fb14e-2444-4c19-e42f-8b48a4934fb2"
      },
      "source": [
        "clf.predict(X_test.iloc[0:10])"
      ],
      "execution_count": null,
      "outputs": [
        {
          "output_type": "execute_result",
          "data": {
            "text/plain": [
              "array([2, 2, 0, 0, 1, 0, 1, 2, 0, 1])"
            ]
          },
          "metadata": {
            "tags": []
          },
          "execution_count": 19
        }
      ]
    },
    {
      "cell_type": "code",
      "metadata": {
        "colab": {
          "base_uri": "https://localhost:8080/",
          "height": 359
        },
        "id": "1jSMkIKdsim-",
        "outputId": "a46a9b1c-9376-4a97-b5bc-f95743d66ff5"
      },
      "source": [
        "y_test[0:10]"
      ],
      "execution_count": null,
      "outputs": [
        {
          "output_type": "execute_result",
          "data": {
            "text/html": [
              "<div>\n",
              "<style scoped>\n",
              "    .dataframe tbody tr th:only-of-type {\n",
              "        vertical-align: middle;\n",
              "    }\n",
              "\n",
              "    .dataframe tbody tr th {\n",
              "        vertical-align: top;\n",
              "    }\n",
              "\n",
              "    .dataframe thead th {\n",
              "        text-align: right;\n",
              "    }\n",
              "</style>\n",
              "<table border=\"1\" class=\"dataframe\">\n",
              "  <thead>\n",
              "    <tr style=\"text-align: right;\">\n",
              "      <th></th>\n",
              "      <th>class_encod</th>\n",
              "    </tr>\n",
              "  </thead>\n",
              "  <tbody>\n",
              "    <tr>\n",
              "      <th>136</th>\n",
              "      <td>2</td>\n",
              "    </tr>\n",
              "    <tr>\n",
              "      <th>142</th>\n",
              "      <td>2</td>\n",
              "    </tr>\n",
              "    <tr>\n",
              "      <th>39</th>\n",
              "      <td>0</td>\n",
              "    </tr>\n",
              "    <tr>\n",
              "      <th>44</th>\n",
              "      <td>0</td>\n",
              "    </tr>\n",
              "    <tr>\n",
              "      <th>50</th>\n",
              "      <td>1</td>\n",
              "    </tr>\n",
              "    <tr>\n",
              "      <th>23</th>\n",
              "      <td>0</td>\n",
              "    </tr>\n",
              "    <tr>\n",
              "      <th>90</th>\n",
              "      <td>1</td>\n",
              "    </tr>\n",
              "    <tr>\n",
              "      <th>149</th>\n",
              "      <td>2</td>\n",
              "    </tr>\n",
              "    <tr>\n",
              "      <th>46</th>\n",
              "      <td>0</td>\n",
              "    </tr>\n",
              "    <tr>\n",
              "      <th>55</th>\n",
              "      <td>1</td>\n",
              "    </tr>\n",
              "  </tbody>\n",
              "</table>\n",
              "</div>"
            ],
            "text/plain": [
              "     class_encod\n",
              "136            2\n",
              "142            2\n",
              "39             0\n",
              "44             0\n",
              "50             1\n",
              "23             0\n",
              "90             1\n",
              "149            2\n",
              "46             0\n",
              "55             1"
            ]
          },
          "metadata": {
            "tags": []
          },
          "execution_count": 20
        }
      ]
    },
    {
      "cell_type": "code",
      "metadata": {
        "colab": {
          "base_uri": "https://localhost:8080/"
        },
        "id": "P7DLD0G4suZc",
        "outputId": "1adbc312-d92e-47a4-bfbf-e2f6f35b08c0"
      },
      "source": [
        "clf.score(X_test, y_test)"
      ],
      "execution_count": null,
      "outputs": [
        {
          "output_type": "execute_result",
          "data": {
            "text/plain": [
              "0.9777777777777777"
            ]
          },
          "metadata": {
            "tags": []
          },
          "execution_count": 21
        }
      ]
    },
    {
      "cell_type": "code",
      "metadata": {
        "colab": {
          "base_uri": "https://localhost:8080/",
          "height": 573
        },
        "id": "UY9K_SXws8VC",
        "outputId": "8502aea2-e97a-4a8b-9398-89abce1bf80d"
      },
      "source": [
        "# Plot non-normalized confusion matrix\n",
        "from sklearn.metrics import plot_confusion_matrix\n",
        "\n",
        "titles_options = [(\"Confusion matrix, without normalization\", None),\n",
        "                  (\"Normalized confusion matrix\", 'true')]\n",
        "for title, normalize in titles_options:\n",
        "    disp = plot_confusion_matrix(clf, X_test, y_test,\n",
        "                                 display_labels=iris['class'].unique(),\n",
        "                                 cmap=plt.cm.Blues,\n",
        "                                 normalize=normalize)\n",
        "    disp.ax_.set_title(title)\n",
        "\n",
        "plt.show()"
      ],
      "execution_count": null,
      "outputs": [
        {
          "output_type": "display_data",
          "data": {
            "image/png": "[encoded data removed]",
            "text/plain": [
              "<Figure size 432x288 with 2 Axes>"
            ]
          },
          "metadata": {
            "tags": [],
            "needs_background": "light"
          }
        },
        {
          "output_type": "display_data",
          "data": {
            "image/png": "[encoded data removed]",
            "text/plain": [
              "<Figure size 432x288 with 2 Axes>"
            ]
          },
          "metadata": {
            "tags": [],
            "needs_background": "light"
          }
        }
      ]
    },
    {
      "cell_type": "code",
      "metadata": {
        "colab": {
          "base_uri": "https://localhost:8080/",
          "height": 938
        },
        "id": "Vdx0CexiysYU",
        "outputId": "fa22e0bd-f6fe-47e6-9d11-2b9d5d21ed17"
      },
      "source": [
        "plt.figure(figsize=(12,12))\n",
        "tree.plot_tree(clf,feature_names=X.columns, class_names=iris['class'].unique(),filled=True, fontsize=8)"
      ],
      "execution_count": null,
      "outputs": [
        {
          "output_type": "execute_result",
          "data": {
            "text/plain": [
              "[Text(334.8, 587.0880000000001, 'petal_width <= 0.292\\ngini = 0.667\\nsamples = 105\\nvalue = [35, 35, 35]\\nclass = Iris-setosa'),\n",
              " Text(283.2923076923077, 456.624, 'gini = 0.0\\nsamples = 35\\nvalue = [35, 0, 0]\\nclass = Iris-setosa'),\n",
              " Text(386.3076923076923, 456.624, 'petal_width <= 0.688\\ngini = 0.5\\nsamples = 70\\nvalue = [0, 35, 35]\\nclass = Iris-versicolor'),\n",
              " Text(206.03076923076924, 326.1600000000001, 'petal_length <= 0.669\\ngini = 0.149\\nsamples = 37\\nvalue = [0, 34, 3]\\nclass = Iris-versicolor'),\n",
              " Text(103.01538461538462, 195.69600000000003, 'petal_width <= 0.646\\ngini = 0.059\\nsamples = 33\\nvalue = [0, 32, 1]\\nclass = Iris-versicolor'),\n",
              " Text(51.50769230769231, 65.23200000000008, 'gini = 0.0\\nsamples = 32\\nvalue = [0, 32, 0]\\nclass = Iris-versicolor'),\n",
              " Text(154.52307692307693, 65.23200000000008, 'gini = 0.0\\nsamples = 1\\nvalue = [0, 0, 1]\\nclass = Iris-virginica'),\n",
              " Text(309.04615384615386, 195.69600000000003, 'petal_width <= 0.604\\ngini = 0.5\\nsamples = 4\\nvalue = [0, 2, 2]\\nclass = Iris-versicolor'),\n",
              " Text(257.53846153846155, 65.23200000000008, 'gini = 0.0\\nsamples = 2\\nvalue = [0, 0, 2]\\nclass = Iris-virginica'),\n",
              " Text(360.55384615384617, 65.23200000000008, 'gini = 0.0\\nsamples = 2\\nvalue = [0, 2, 0]\\nclass = Iris-versicolor'),\n",
              " Text(566.5846153846154, 326.1600000000001, 'sepal_length <= 0.458\\ngini = 0.059\\nsamples = 33\\nvalue = [0, 1, 32]\\nclass = Iris-virginica'),\n",
              " Text(515.0769230769231, 195.69600000000003, 'sepal_width <= 0.417\\ngini = 0.444\\nsamples = 3\\nvalue = [0, 1, 2]\\nclass = Iris-virginica'),\n",
              " Text(463.5692307692308, 65.23200000000008, 'gini = 0.0\\nsamples = 2\\nvalue = [0, 0, 2]\\nclass = Iris-virginica'),\n",
              " Text(566.5846153846154, 65.23200000000008, 'gini = 0.0\\nsamples = 1\\nvalue = [0, 1, 0]\\nclass = Iris-versicolor'),\n",
              " Text(618.0923076923077, 195.69600000000003, 'gini = 0.0\\nsamples = 30\\nvalue = [0, 0, 30]\\nclass = Iris-virginica')]"
            ]
          },
          "metadata": {
            "tags": []
          },
          "execution_count": 23
        },
        {
          "output_type": "display_data",
          "data": {
            "image/png": "[encoded data removed]",
            "text/plain": [
              "<Figure size 864x864 with 1 Axes>"
            ]
          },
          "metadata": {
            "tags": [],
            "needs_background": "light"
          }
        }
      ]
    },
    {
      "cell_type": "code",
      "metadata": {
        "colab": {
          "base_uri": "https://localhost:8080/"
        },
        "id": "83R_Jc5ctLgK",
        "outputId": "1878f417-22bf-4abb-b1b3-95b3a755db43"
      },
      "source": [
        "dump(clf, 'iris-tree-classifier.dmp')"
      ],
      "execution_count": null,
      "outputs": [
        {
          "output_type": "execute_result",
          "data": {
            "text/plain": [
              "['iris-tree-classifier.dmp']"
            ]
          },
          "metadata": {
            "tags": []
          },
          "execution_count": 24
        }
      ]
    },
    {
      "cell_type": "code",
      "metadata": {
        "colab": {
          "base_uri": "https://localhost:8080/"
        },
        "id": "ajl_4boItPE8",
        "outputId": "748d2ea2-d05f-4be1-dbb1-d27705abee33"
      },
      "source": [
        "ic = load('iris-tree-classifier.dmp')\n",
        "confusion_matrix(y_test, ic.predict(X_test))"
      ],
      "execution_count": null,
      "outputs": [
        {
          "output_type": "execute_result",
          "data": {
            "text/plain": [
              "array([[15,  0,  0],\n",
              "       [ 0, 15,  0],\n",
              "       [ 0,  1, 14]])"
            ]
          },
          "metadata": {
            "tags": []
          },
          "execution_count": 25
        }
      ]
    },
    {
      "cell_type": "markdown",
      "metadata": {
        "id": "pQE4tdEITk2R"
      },
      "source": [
        "### Experimenting with training and testing datasets"
      ]
    },
    {
      "cell_type": "markdown",
      "metadata": {
        "id": "Tu45AQhMapc2"
      },
      "source": [
        "Per our class textbook, an 80/20 split for training and testing data is usually done. \"Training and testing data are usually split 80/20, with 80% of the available data used as training data and 20% used to test the model \"\n",
        "\n",
        "In prior cases, however, we used a 70/30 split for our training and testing models. This got my group interested in seeing what the effects of different extremes of these splits may be. Also, while we know what the result of this endeavor would look like, we also wanted to see what the result of using the same data to train and test would look like\n",
        "\n",
        "First We will start with the KNN Classifier"
      ]
    },
    {
      "cell_type": "markdown",
      "metadata": {
        "id": "sU_ZdEYJa1lU"
      },
      "source": [
        "#### KNN Classifier"
      ]
    },
    {
      "cell_type": "markdown",
      "metadata": {
        "id": "TsI7yDVkbAa6"
      },
      "source": [
        "##### Baseline"
      ]
    },
    {
      "cell_type": "code",
      "metadata": {
        "colab": {
          "base_uri": "https://localhost:8080/"
        },
        "id": "EGwcZMeUbaYF",
        "outputId": "d51a2807-5fa3-4328-be7b-db37795bd14f"
      },
      "source": [
        "from sklearn.model_selection import train_test_split\n",
        "\n",
        "X_train, X_test, y_train, y_test = train_test_split(X, y, test_size=0.3,\n",
        "                                                    random_state=0, stratify=y)\n",
        "\n",
        "m = KNeighborsClassifier()\n",
        "m.fit(X_train, np.ravel(y_train))\n",
        "\n",
        "print('\\nThe accuracy of our KNN base model: ')\n",
        "print(m.score(X_test, y_test))\n"
      ],
      "execution_count": null,
      "outputs": [
        {
          "output_type": "stream",
          "text": [
            "\n",
            "The accuracy of our KNN base model: \n",
            "0.9777777777777777\n"
          ],
          "name": "stdout"
        }
      ]
    },
    {
      "cell_type": "markdown",
      "metadata": {
        "id": "b4qtT7AZccup"
      },
      "source": [
        "##### 80/20 Split"
      ]
    },
    {
      "cell_type": "code",
      "metadata": {
        "colab": {
          "base_uri": "https://localhost:8080/"
        },
        "id": "khK5jzmicTEL",
        "outputId": "b7f5c7ca-4c3a-4023-e94b-d096690f70f2"
      },
      "source": [
        "X_train, X_test, y_train, y_test = train_test_split(X, y, test_size=0.2,\n",
        "                                                    random_state=0, stratify=y)\n",
        "m = KNeighborsClassifier()\n",
        "m.fit(X_train, np.ravel(y_train))\n",
        "\n",
        "\n",
        "print('\\nThe accuracy of our KNN model - (80/20): ')\n",
        "print(m.score(X_test, y_test))"
      ],
      "execution_count": null,
      "outputs": [
        {
          "output_type": "stream",
          "text": [
            "\n",
            "The accuracy of our KNN model - (80/20): \n",
            "0.9666666666666667\n"
          ],
          "name": "stdout"
        }
      ]
    },
    {
      "cell_type": "markdown",
      "metadata": {
        "id": "dCiS-TAOckut"
      },
      "source": [
        "##### 90/10 Split"
      ]
    },
    {
      "cell_type": "code",
      "metadata": {
        "colab": {
          "base_uri": "https://localhost:8080/"
        },
        "id": "3-X_McAzcpEJ",
        "outputId": "d60e447b-ba88-4e5f-a343-064d39c99080"
      },
      "source": [
        "X_train, X_test, y_train, y_test = train_test_split(X, y, test_size=0.1,\n",
        "                                                    random_state=0, stratify=y)\n",
        "m = KNeighborsClassifier()\n",
        "m.fit(X_train, np.ravel(y_train))\n",
        "\n",
        "\n",
        "print('\\nThe accuracy of our KNN model - (90/10): ')\n",
        "print(m.score(X_test, y_test))"
      ],
      "execution_count": null,
      "outputs": [
        {
          "output_type": "stream",
          "text": [
            "\n",
            "The accuracy of our KNN model - (90/10): \n",
            "0.9333333333333333\n"
          ],
          "name": "stdout"
        }
      ]
    },
    {
      "cell_type": "markdown",
      "metadata": {
        "id": "-sqhxkH9cwUH"
      },
      "source": [
        "##### 50/50 Split"
      ]
    },
    {
      "cell_type": "code",
      "metadata": {
        "colab": {
          "base_uri": "https://localhost:8080/"
        },
        "id": "L3ONwor6c6e7",
        "outputId": "c8eccbbe-afd1-412e-8d9d-62ec792e50ef"
      },
      "source": [
        "X_train, X_test, y_train, y_test = train_test_split(X, y, test_size=0.5,\n",
        "                                                    random_state=0, stratify=y)\n",
        "m = KNeighborsClassifier()\n",
        "m.fit(X_train, np.ravel(y_train))\n",
        "\n",
        "\n",
        "print('\\nThe accuracy of our KNN model - (50/50): ')\n",
        "print(m.score(X_test, y_test))"
      ],
      "execution_count": null,
      "outputs": [
        {
          "output_type": "stream",
          "text": [
            "\n",
            "The accuracy of our KNN model - (50/50): \n",
            "0.96\n"
          ],
          "name": "stdout"
        }
      ]
    },
    {
      "cell_type": "markdown",
      "metadata": {
        "id": "cCKgRC0B8ft6"
      },
      "source": [
        "##### 10/90 Split"
      ]
    },
    {
      "cell_type": "code",
      "metadata": {
        "colab": {
          "base_uri": "https://localhost:8080/"
        },
        "id": "oYZCJbAc8j7y",
        "outputId": "1c75adca-2586-471a-d599-6b948061e84c"
      },
      "source": [
        "X_train, X_test, y_train, y_test = train_test_split(X, y, test_size=0.9,\n",
        "                                                    random_state=0, stratify=y)\n",
        "m = KNeighborsClassifier()\n",
        "m.fit(X_train, np.ravel(y_train))\n",
        "\n",
        "print('\\nThe accuracy of our KNN model - (10/90): ')\n",
        "print(m.score(X_test, y_test))"
      ],
      "execution_count": null,
      "outputs": [
        {
          "output_type": "stream",
          "text": [
            "\n",
            "The accuracy of our KNN model - (10/90): \n",
            "0.8962962962962963\n"
          ],
          "name": "stdout"
        }
      ]
    },
    {
      "cell_type": "markdown",
      "metadata": {
        "id": "GvR3yEcqeXVs"
      },
      "source": [
        "While we belived this small experient would give more insight into some reasonably interesting workings of machine learning algorithms, these tests were lackluster to say the least. Even with seemingly large deviations from the most ideal test split, there seemed to be a relatively neglible deviation in the results seen in the accuracy of the model. We were looking forward to then see what the results of testing the model against its own training/testing data  would be and if the incroporated algorithms would recognize such values as having no deviation and produce a high accuracy, but unfortunately we did not see such a spectable given that these algorithms were designed in such a way to not allow for a mix with a deviation of 0 and threw an error at runtime. We are hoping the result of the DTC will give a more fitting mix of results for varying values.\n",
        "\n",
        "\n"
      ]
    },
    {
      "cell_type": "markdown",
      "metadata": {
        "id": "_3L_HB31f8_H"
      },
      "source": [
        "#### Decision Tree Classifier"
      ]
    },
    {
      "cell_type": "markdown",
      "metadata": {
        "id": "7sL9A1Me7Ocb"
      },
      "source": [
        "##### Baseline"
      ]
    },
    {
      "cell_type": "code",
      "metadata": {
        "colab": {
          "base_uri": "https://localhost:8080/"
        },
        "id": "cZE2tCGT7QXg",
        "outputId": "355bd0b6-9b96-4532-882e-57c4158b4f67"
      },
      "source": [
        "from sklearn import tree\n",
        "\n",
        "X_train, X_test, y_train, y_test = train_test_split(X, y, test_size=0.3,\n",
        "                                                    random_state=0, stratify=y)\n",
        "\n",
        "clf = tree.DecisionTreeClassifier()\n",
        "clf = clf.fit(X_train, y_train)\n",
        "\n",
        "\n",
        "print('\\nThe accuracy of our DTC base model: ')\n",
        "print(clf.score(X_test, y_test))"
      ],
      "execution_count": null,
      "outputs": [
        {
          "output_type": "stream",
          "text": [
            "\n",
            "The accuracy of our DTC base model: \n",
            "0.9555555555555556\n"
          ],
          "name": "stdout"
        }
      ]
    },
    {
      "cell_type": "markdown",
      "metadata": {
        "id": "Tm0UDt2k9xkE"
      },
      "source": [
        "##### 80/20 Split"
      ]
    },
    {
      "cell_type": "code",
      "metadata": {
        "id": "wae4Nnbo-gvx",
        "colab": {
          "base_uri": "https://localhost:8080/"
        },
        "outputId": "8d4bdfdb-87b9-4a21-c78d-c48a575a8771"
      },
      "source": [
        "X_train, X_test, y_train, y_test = train_test_split(X, y, test_size=0.2,\n",
        "                                                    random_state=0, stratify=y)\n",
        "\n",
        "clf = tree.DecisionTreeClassifier()\n",
        "clf = clf.fit(X_train, y_train)\n",
        "\n",
        "print('\\nThe accuracy of our DTC model - (80/20): ')\n",
        "print(clf.score(X_test, y_test))"
      ],
      "execution_count": null,
      "outputs": [
        {
          "output_type": "stream",
          "text": [
            "\n",
            "The accuracy of our DTC model - (80/20): \n",
            "0.9666666666666667\n"
          ],
          "name": "stdout"
        }
      ]
    },
    {
      "cell_type": "markdown",
      "metadata": {
        "id": "zF3jer8W94D_"
      },
      "source": [
        "##### 90/10 Split"
      ]
    },
    {
      "cell_type": "code",
      "metadata": {
        "id": "6pp_u1Nd_Uqv",
        "colab": {
          "base_uri": "https://localhost:8080/"
        },
        "outputId": "0726362f-fc36-4988-c34f-a3598dda0086"
      },
      "source": [
        "X_train, X_test, y_train, y_test = train_test_split(X, y, test_size=0.1,\n",
        "                                                    random_state=0, stratify=y)\n",
        "\n",
        "clf = tree.DecisionTreeClassifier()\n",
        "clf = clf.fit(X_train, y_train)\n",
        "\n",
        "print('\\nThe accuracy of our DTC model - (90/10): ')\n",
        "print(clf.score(X_test, y_test))"
      ],
      "execution_count": null,
      "outputs": [
        {
          "output_type": "stream",
          "text": [
            "\n",
            "The accuracy of our DTC model - (90/10): \n",
            "0.9333333333333333\n"
          ],
          "name": "stdout"
        }
      ]
    },
    {
      "cell_type": "markdown",
      "metadata": {
        "id": "8FROOiwg9_sK"
      },
      "source": [
        "##### 50/50 Split"
      ]
    },
    {
      "cell_type": "code",
      "metadata": {
        "id": "vD-pHXIz_Xq_",
        "colab": {
          "base_uri": "https://localhost:8080/"
        },
        "outputId": "ef10bf04-bb20-4fcf-c623-27f2d09f556e"
      },
      "source": [
        "X_train, X_test, y_train, y_test = train_test_split(X, y, test_size=0.5,\n",
        "                                                    random_state=0, stratify=y)\n",
        "\n",
        "clf = tree.DecisionTreeClassifier()\n",
        "clf = clf.fit(X_train, y_train)\n",
        "\n",
        "print('\\nThe accuracy of our DTC model - (50/50): ')\n",
        "print(clf.score(X_test, y_test))"
      ],
      "execution_count": null,
      "outputs": [
        {
          "output_type": "stream",
          "text": [
            "\n",
            "The accuracy of our DTC model - (50/50): \n",
            "0.8933333333333333\n"
          ],
          "name": "stdout"
        }
      ]
    },
    {
      "cell_type": "markdown",
      "metadata": {
        "id": "TKVuh37L-Hws"
      },
      "source": [
        "##### 10/90 Split"
      ]
    },
    {
      "cell_type": "code",
      "metadata": {
        "id": "1YPs5laQ_dR6",
        "colab": {
          "base_uri": "https://localhost:8080/"
        },
        "outputId": "911b80fb-c424-48d3-cac0-84f35b0e630f"
      },
      "source": [
        "X_train, X_test, y_train, y_test = train_test_split(X, y, test_size=0.9,\n",
        "                                                    random_state=0, stratify=y)\n",
        "\n",
        "clf = tree.DecisionTreeClassifier()\n",
        "clf = clf.fit(X_train, y_train)\n",
        "\n",
        "print('\\nThe accuracy of our DTC model - (10/90): ')\n",
        "print(clf.score(X_test, y_test))"
      ],
      "execution_count": null,
      "outputs": [
        {
          "output_type": "stream",
          "text": [
            "\n",
            "The accuracy of our DTC model - (10/90): \n",
            "0.9555555555555556\n"
          ],
          "name": "stdout"
        }
      ]
    },
    {
      "cell_type": "markdown",
      "metadata": {
        "id": "_mftXTK7_iN9"
      },
      "source": [
        "We were once again a bit disappoointed to find that the spread amongst these values were relatively negligent and not even to warrant further reasearch. We are under the impression because this subset of information is just so small with only 150 entries, we do not see much deviation across the board and thus see somewhat consisent results based on different splits. We did find this project worthwhile regardless because the main concepts that were convered in our text were exhibited and we were able to further understand a bit more about the work that is done in regards to machine learning and some of the considerations that must be taken into account and handled prior to actually running an algorithm and while you are actually testing and training. One of the simplest of things that surprised us the most was the normalization that had to be done to put the values in a range that would work, that was not something we previously thought about and have learned the importance of through this experience. "
      ]
    },
    {
      "cell_type": "markdown",
      "metadata": {
        "id": "aHhwHxQyY_gw"
      },
      "source": [
        "## CONCLUSION\n"
      ]
    },
    {
      "cell_type": "markdown",
      "metadata": {
        "id": "Ha08o97Tamp_"
      },
      "source": [
        "### LESSONS LEARNED:\n",
        "\n",
        "From this assignment we learned more about the machine learning workflow. As explained in Grokking AI Algorithms by Hurbans, this workflow consists of 5 steps which include collecting and understanding the data, preparing the data, training a model, testing the model, and improving accuracy. Using libraries such as Scikit Learn, Pandas, Seaborn, and Numpy simplifies most of these steps as it abstracts the process of collecting data, training, and testing the model. \n",
        "\n",
        "Despite of this, it is still our responsibility as programmers to understand and to prepare the data. As seen in the early steps of developing this solution, libraries such as Pandas make it easy to better visualize our data so that we can look for potential dirty data through functions such as summary. For this particular problem, the iris dataset contained clean data for every sample, however, we needed to preprocess it. In this case, we needed to MinMax scale the data, which is a strategy that converts every attribute to fall in a range between 0 and 1. This makes every different feature comparable as it makes the dataset to be consistent in format. \n",
        "\n",
        "After preprocessing our data, we were ready to implement the machine learning algorithms. The Scikit Learn library comes with pre-built classifiers that abstract the process of implementing and training machine learning models such as K-nearest-neighbors and Decision trees classifiers. They also allow us to easily test these models with our testing dataset and to check if we chose the correct model to solve our problem. For this particular problem, we obtained better results using the K-nearest-neighbor algorithm. This is easily checked through functions such as score and confusion matrix. "
      ]
    }
  ]
}